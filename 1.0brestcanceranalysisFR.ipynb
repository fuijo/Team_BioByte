{
 "cells": [
  {
   "cell_type": "code",
   "execution_count": 309,
   "id": "0f2cabc6-fee9-46ab-a936-a983ab782e90",
   "metadata": {},
   "outputs": [],
   "source": [
    "# Import modules\n",
    "from warnings import simplefilter\n",
    "simplefilter(action='ignore', category=FutureWarning)\n",
    "import pandas as pd\n",
    "from pathlib import Path\n",
    "from sklearn.model_selection import train_test_split\n",
    "from sklearn.metrics import classification_report\n",
    "from sklearn.preprocessing import StandardScaler\n",
    "import dask.dataframe as dd\n",
    "import numpy as np\n",
    "import tensorflow as tf\n"
   ]
  },
  {
   "cell_type": "markdown",
   "id": "4adc6ef8-8f8a-4a09-b449-6fbaffc55c50",
   "metadata": {},
   "source": [
    "## Extract the data"
   ]
  },
  {
   "cell_type": "code",
   "execution_count": 168,
   "id": "7497786d-c0d7-4114-bab1-34ef6b13ac72",
   "metadata": {},
   "outputs": [
    {
     "data": {
      "text/html": [
       "<div>\n",
       "<style scoped>\n",
       "    .dataframe tbody tr th:only-of-type {\n",
       "        vertical-align: middle;\n",
       "    }\n",
       "\n",
       "    .dataframe tbody tr th {\n",
       "        vertical-align: top;\n",
       "    }\n",
       "\n",
       "    .dataframe thead th {\n",
       "        text-align: right;\n",
       "    }\n",
       "</style>\n",
       "<table border=\"1\" class=\"dataframe\">\n",
       "  <thead>\n",
       "    <tr style=\"text-align: right;\">\n",
       "      <th></th>\n",
       "      <th>cells</th>\n",
       "      <th>orig.ident</th>\n",
       "      <th>nCount_RNA</th>\n",
       "      <th>nFeature_RNA</th>\n",
       "      <th>percent.mt</th>\n",
       "      <th>alra_snn_res.0.5</th>\n",
       "      <th>seurat_clusters</th>\n",
       "      <th>samples</th>\n",
       "    </tr>\n",
       "  </thead>\n",
       "  <tbody>\n",
       "    <tr>\n",
       "      <th>0</th>\n",
       "      <td>ACAGCTAAGGGTTCCC</td>\n",
       "      <td>Unfiltered_control</td>\n",
       "      <td>7</td>\n",
       "      <td>4</td>\n",
       "      <td>0.000000</td>\n",
       "      <td>9</td>\n",
       "      <td>9</td>\n",
       "      <td>Unfiltered_control</td>\n",
       "    </tr>\n",
       "    <tr>\n",
       "      <th>1</th>\n",
       "      <td>ACATACGTCATTTGGG</td>\n",
       "      <td>Unfiltered_control</td>\n",
       "      <td>7</td>\n",
       "      <td>7</td>\n",
       "      <td>0.036010</td>\n",
       "      <td>9</td>\n",
       "      <td>9</td>\n",
       "      <td>Unfiltered_control</td>\n",
       "    </tr>\n",
       "    <tr>\n",
       "      <th>2</th>\n",
       "      <td>ACATCAGAGTCGTACT</td>\n",
       "      <td>Unfiltered_control</td>\n",
       "      <td>11</td>\n",
       "      <td>6</td>\n",
       "      <td>0.000000</td>\n",
       "      <td>9</td>\n",
       "      <td>9</td>\n",
       "      <td>Unfiltered_control</td>\n",
       "    </tr>\n",
       "    <tr>\n",
       "      <th>3</th>\n",
       "      <td>AGAGTGGGTGCAACTT</td>\n",
       "      <td>Unfiltered_control</td>\n",
       "      <td>7</td>\n",
       "      <td>4</td>\n",
       "      <td>0.150754</td>\n",
       "      <td>9</td>\n",
       "      <td>9</td>\n",
       "      <td>Unfiltered_control</td>\n",
       "    </tr>\n",
       "    <tr>\n",
       "      <th>4</th>\n",
       "      <td>AGGCCACGTTCGCGAC</td>\n",
       "      <td>Unfiltered_control</td>\n",
       "      <td>9</td>\n",
       "      <td>2</td>\n",
       "      <td>0.000000</td>\n",
       "      <td>9</td>\n",
       "      <td>9</td>\n",
       "      <td>Unfiltered_control</td>\n",
       "    </tr>\n",
       "    <tr>\n",
       "      <th>5</th>\n",
       "      <td>AGTGGGACATCCGGGT</td>\n",
       "      <td>Unfiltered_control</td>\n",
       "      <td>9</td>\n",
       "      <td>4</td>\n",
       "      <td>0.000000</td>\n",
       "      <td>9</td>\n",
       "      <td>9</td>\n",
       "      <td>Unfiltered_control</td>\n",
       "    </tr>\n",
       "    <tr>\n",
       "      <th>6</th>\n",
       "      <td>ATCACGAGTCCAGTTA</td>\n",
       "      <td>Unfiltered_control</td>\n",
       "      <td>8</td>\n",
       "      <td>8</td>\n",
       "      <td>0.000000</td>\n",
       "      <td>9</td>\n",
       "      <td>9</td>\n",
       "      <td>Unfiltered_control</td>\n",
       "    </tr>\n",
       "    <tr>\n",
       "      <th>7</th>\n",
       "      <td>ATCATGGGTCCGACGT</td>\n",
       "      <td>3</td>\n",
       "      <td>9</td>\n",
       "      <td>8</td>\n",
       "      <td>0.000000</td>\n",
       "      <td>9</td>\n",
       "      <td>9</td>\n",
       "      <td>Filtered_samples</td>\n",
       "    </tr>\n",
       "    <tr>\n",
       "      <th>8</th>\n",
       "      <td>ATTACTCCAGATCTGT</td>\n",
       "      <td>Unfiltered_control</td>\n",
       "      <td>12</td>\n",
       "      <td>5</td>\n",
       "      <td>0.000000</td>\n",
       "      <td>9</td>\n",
       "      <td>9</td>\n",
       "      <td>Unfiltered_control</td>\n",
       "    </tr>\n",
       "    <tr>\n",
       "      <th>9</th>\n",
       "      <td>CAAGATCGTCCATCCT</td>\n",
       "      <td>3</td>\n",
       "      <td>13</td>\n",
       "      <td>5</td>\n",
       "      <td>0.000000</td>\n",
       "      <td>9</td>\n",
       "      <td>9</td>\n",
       "      <td>Filtered_samples</td>\n",
       "    </tr>\n",
       "  </tbody>\n",
       "</table>\n",
       "</div>"
      ],
      "text/plain": [
       "              cells          orig.ident  nCount_RNA  nFeature_RNA  percent.mt  \\\n",
       "0  ACAGCTAAGGGTTCCC  Unfiltered_control           7             4    0.000000   \n",
       "1  ACATACGTCATTTGGG  Unfiltered_control           7             7    0.036010   \n",
       "2  ACATCAGAGTCGTACT  Unfiltered_control          11             6    0.000000   \n",
       "3  AGAGTGGGTGCAACTT  Unfiltered_control           7             4    0.150754   \n",
       "4  AGGCCACGTTCGCGAC  Unfiltered_control           9             2    0.000000   \n",
       "5  AGTGGGACATCCGGGT  Unfiltered_control           9             4    0.000000   \n",
       "6  ATCACGAGTCCAGTTA  Unfiltered_control           8             8    0.000000   \n",
       "7  ATCATGGGTCCGACGT                   3           9             8    0.000000   \n",
       "8  ATTACTCCAGATCTGT  Unfiltered_control          12             5    0.000000   \n",
       "9  CAAGATCGTCCATCCT                   3          13             5    0.000000   \n",
       "\n",
       "   alra_snn_res.0.5  seurat_clusters             samples  \n",
       "0                 9                9  Unfiltered_control  \n",
       "1                 9                9  Unfiltered_control  \n",
       "2                 9                9  Unfiltered_control  \n",
       "3                 9                9  Unfiltered_control  \n",
       "4                 9                9  Unfiltered_control  \n",
       "5                 9                9  Unfiltered_control  \n",
       "6                 9                9  Unfiltered_control  \n",
       "7                 9                9    Filtered_samples  \n",
       "8                 9                9  Unfiltered_control  \n",
       "9                 9                9    Filtered_samples  "
      ]
     },
     "execution_count": 168,
     "metadata": {},
     "output_type": "execute_result"
    }
   ],
   "source": [
    "\n",
    "# Load the TSV file into a DataFrame\n",
    "file_path = \"GSE139495_Single_cell_metaData_10252019.tsv\"  # Update with the correct path if needed\n",
    "df = pd.read_csv(file_path, sep=\"\\t\")\n",
    "\n",
    "# Display the first few rows\n",
    "df.head(10)\n"
   ]
  },
  {
   "cell_type": "code",
   "execution_count": 170,
   "id": "d4200e66-ef2c-4973-8bfb-bde535b4e4e6",
   "metadata": {},
   "outputs": [
    {
     "data": {
      "text/plain": [
       "12330"
      ]
     },
     "execution_count": 170,
     "metadata": {},
     "output_type": "execute_result"
    }
   ],
   "source": [
    "len(df)"
   ]
  },
  {
   "cell_type": "code",
   "execution_count": 172,
   "id": "f2c80f04-f843-4bc5-884b-2bc1d2cc96ed",
   "metadata": {},
   "outputs": [
    {
     "data": {
      "text/plain": [
       "12330"
      ]
     },
     "execution_count": 172,
     "metadata": {},
     "output_type": "execute_result"
    }
   ],
   "source": [
    "df_cleaned = df.dropna()  # Drops all rows with NaN values\n",
    "len(df_cleaned)\n"
   ]
  },
  {
   "cell_type": "markdown",
   "id": "cfc97efd-9eeb-4728-a6e4-fc9658427506",
   "metadata": {},
   "source": [
    "## Identify the data"
   ]
  },
  {
   "cell_type": "code",
   "execution_count": 175,
   "id": "3a36aa72-4ee7-43a8-a999-6af0d590a058",
   "metadata": {},
   "outputs": [
    {
     "data": {
      "text/plain": [
       "Index(['cells', 'orig.ident', 'nCount_RNA', 'nFeature_RNA', 'percent.mt',\n",
       "       'alra_snn_res.0.5', 'seurat_clusters', 'samples'],\n",
       "      dtype='object')"
      ]
     },
     "execution_count": 175,
     "metadata": {},
     "output_type": "execute_result"
    }
   ],
   "source": [
    "df.columns"
   ]
  },
  {
   "cell_type": "code",
   "execution_count": 177,
   "id": "6edbec75-3645-4219-94c4-751ae7393295",
   "metadata": {},
   "outputs": [
    {
     "name": "stdout",
     "output_type": "stream",
     "text": [
      "<class 'pandas.core.frame.DataFrame'>\n",
      "RangeIndex: 12330 entries, 0 to 12329\n",
      "Data columns (total 8 columns):\n",
      " #   Column            Non-Null Count  Dtype  \n",
      "---  ------            --------------  -----  \n",
      " 0   cells             12330 non-null  object \n",
      " 1   orig.ident        12330 non-null  object \n",
      " 2   nCount_RNA        12330 non-null  int64  \n",
      " 3   nFeature_RNA      12330 non-null  int64  \n",
      " 4   percent.mt        12330 non-null  float64\n",
      " 5   alra_snn_res.0.5  12330 non-null  int64  \n",
      " 6   seurat_clusters   12330 non-null  int64  \n",
      " 7   samples           12330 non-null  object \n",
      "dtypes: float64(1), int64(4), object(3)\n",
      "memory usage: 770.8+ KB\n"
     ]
    }
   ],
   "source": [
    "df.info()"
   ]
  },
  {
   "cell_type": "code",
   "execution_count": 179,
   "id": "e460aa54-dffd-4403-a06e-d2e9ef77b583",
   "metadata": {},
   "outputs": [
    {
     "data": {
      "text/plain": [
       "cells                object\n",
       "orig.ident           object\n",
       "nCount_RNA            int64\n",
       "nFeature_RNA          int64\n",
       "percent.mt          float64\n",
       "alra_snn_res.0.5      int64\n",
       "seurat_clusters       int64\n",
       "samples              object\n",
       "dtype: object"
      ]
     },
     "execution_count": 179,
     "metadata": {},
     "output_type": "execute_result"
    }
   ],
   "source": [
    "df.dtypes"
   ]
  },
  {
   "cell_type": "code",
   "execution_count": 181,
   "id": "fb39b9dd-b9f6-4da5-8378-baff6edef530",
   "metadata": {},
   "outputs": [
    {
     "name": "stdout",
     "output_type": "stream",
     "text": [
      "\n",
      "Column: cells\n",
      "cells\n",
      "ACAGCTAAGGGTTCCC    1\n",
      "TTTCCTCTCCACGTGG    1\n",
      "TTGGCAATCTCCTATA    1\n",
      "TTGGCAATCTTACCTA    1\n",
      "TTGGCAATCTTCCTTC    1\n",
      "                   ..\n",
      "CTGAAACAGAGGACGG    1\n",
      "CTGAAACAGATGTTAG    1\n",
      "CTGAAACAGCCACTAT    1\n",
      "CTGAAACCAAACAACA    1\n",
      "TTTACTGCATCCCACT    1\n",
      "Name: count, Length: 12330, dtype: int64\n",
      "\n",
      "Column: orig.ident\n",
      "orig.ident\n",
      "Unfiltered_control    8457\n",
      "11                    1641\n",
      "8,9,10                1124\n",
      "3                      754\n",
      "1                      296\n",
      "2                       29\n",
      "5                       17\n",
      "4                        7\n",
      "6                        3\n",
      "7                        1\n",
      "Failed_capture           1\n",
      "Name: count, dtype: int64\n",
      "\n",
      "Column: nCount_RNA\n",
      "nCount_RNA\n",
      "5        18\n",
      "9        17\n",
      "7        14\n",
      "8        13\n",
      "12       12\n",
      "         ..\n",
      "3946      1\n",
      "10575     1\n",
      "6089      1\n",
      "4320      1\n",
      "6         1\n",
      "Name: count, Length: 5799, dtype: int64\n",
      "\n",
      "Column: nFeature_RNA\n",
      "nFeature_RNA\n",
      "1119    22\n",
      "1123    21\n",
      "1153    20\n",
      "1131    20\n",
      "1130    20\n",
      "        ..\n",
      "2500     1\n",
      "2579     1\n",
      "2168     1\n",
      "2185     1\n",
      "9        1\n",
      "Name: count, Length: 2335, dtype: int64\n",
      "\n",
      "Column: percent.mt\n",
      "percent.mt\n",
      "0.000000    127\n",
      "3.125000      8\n",
      "2.857143      7\n",
      "2.127660      7\n",
      "3.703704      7\n",
      "           ... \n",
      "2.938296      1\n",
      "4.576503      1\n",
      "1.979943      1\n",
      "5.983794      1\n",
      "0.104275      1\n",
      "Name: count, Length: 11541, dtype: int64\n",
      "\n",
      "Column: alra_snn_res.0.5\n",
      "alra_snn_res.0.5\n",
      "0     3177\n",
      "1     1769\n",
      "2     1671\n",
      "3     1218\n",
      "4     1133\n",
      "5     1047\n",
      "6      523\n",
      "7      414\n",
      "8      272\n",
      "9      258\n",
      "10     219\n",
      "11     177\n",
      "12     165\n",
      "13     159\n",
      "14     128\n",
      "Name: count, dtype: int64\n",
      "\n",
      "Column: seurat_clusters\n",
      "seurat_clusters\n",
      "0     3177\n",
      "1     1769\n",
      "2     1671\n",
      "3     1218\n",
      "4     1133\n",
      "5     1047\n",
      "6      523\n",
      "7      414\n",
      "8      272\n",
      "9      258\n",
      "10     219\n",
      "11     177\n",
      "12     165\n",
      "13     159\n",
      "14     128\n",
      "Name: count, dtype: int64\n",
      "\n",
      "Column: samples\n",
      "samples\n",
      "Unfiltered_control    8457\n",
      "Filtered_samples      2232\n",
      "Unfiltered_sample     1641\n",
      "Name: count, dtype: int64\n"
     ]
    }
   ],
   "source": [
    "# Function to count unique values in each column\n",
    "def group_common_values(df):\n",
    "    for col in df.columns:\n",
    "        print(f\"\\nColumn: {col}\")\n",
    "        print(df[col].value_counts())  # Count occurrences of unique values\n",
    "\n",
    "# Apply the function\n",
    "group_common_values(df)"
   ]
  },
  {
   "cell_type": "code",
   "execution_count": 183,
   "id": "30952c36-ce4c-4044-bcdc-a9010c297c51",
   "metadata": {},
   "outputs": [],
   "source": [
    "from sklearn.preprocessing import LabelEncoder\n",
    "\n",
    "le = LabelEncoder()\n",
    "df['cells'] = le.fit_transform(df['cells'])\n",
    "#df['orig.ident'] = le.fit_transform(df['orig.ident'])\n",
    "\n"
   ]
  },
  {
   "cell_type": "code",
   "execution_count": 185,
   "id": "fe50cb25-28c2-409d-8f72-5ea907c8632d",
   "metadata": {},
   "outputs": [
    {
     "data": {
      "text/html": [
       "<div>\n",
       "<style scoped>\n",
       "    .dataframe tbody tr th:only-of-type {\n",
       "        vertical-align: middle;\n",
       "    }\n",
       "\n",
       "    .dataframe tbody tr th {\n",
       "        vertical-align: top;\n",
       "    }\n",
       "\n",
       "    .dataframe thead th {\n",
       "        text-align: right;\n",
       "    }\n",
       "</style>\n",
       "<table border=\"1\" class=\"dataframe\">\n",
       "  <thead>\n",
       "    <tr style=\"text-align: right;\">\n",
       "      <th></th>\n",
       "      <th>cells</th>\n",
       "      <th>patient</th>\n",
       "      <th>nCount_RNA</th>\n",
       "      <th>nFeature_RNA</th>\n",
       "      <th>percent</th>\n",
       "      <th>alra_snn_res.0.5</th>\n",
       "      <th>seurat_clusters</th>\n",
       "      <th>samples</th>\n",
       "    </tr>\n",
       "  </thead>\n",
       "  <tbody>\n",
       "    <tr>\n",
       "      <th>0</th>\n",
       "      <td>721</td>\n",
       "      <td>Unfiltered_control</td>\n",
       "      <td>7</td>\n",
       "      <td>4</td>\n",
       "      <td>0.000000</td>\n",
       "      <td>9</td>\n",
       "      <td>9</td>\n",
       "      <td>Unfiltered_control</td>\n",
       "    </tr>\n",
       "    <tr>\n",
       "      <th>1</th>\n",
       "      <td>760</td>\n",
       "      <td>Unfiltered_control</td>\n",
       "      <td>7</td>\n",
       "      <td>7</td>\n",
       "      <td>0.036010</td>\n",
       "      <td>9</td>\n",
       "      <td>9</td>\n",
       "      <td>Unfiltered_control</td>\n",
       "    </tr>\n",
       "    <tr>\n",
       "      <th>2</th>\n",
       "      <td>775</td>\n",
       "      <td>Unfiltered_control</td>\n",
       "      <td>11</td>\n",
       "      <td>6</td>\n",
       "      <td>0.000000</td>\n",
       "      <td>9</td>\n",
       "      <td>9</td>\n",
       "      <td>Unfiltered_control</td>\n",
       "    </tr>\n",
       "    <tr>\n",
       "      <th>3</th>\n",
       "      <td>1632</td>\n",
       "      <td>Unfiltered_control</td>\n",
       "      <td>7</td>\n",
       "      <td>4</td>\n",
       "      <td>0.150754</td>\n",
       "      <td>9</td>\n",
       "      <td>9</td>\n",
       "      <td>Unfiltered_control</td>\n",
       "    </tr>\n",
       "    <tr>\n",
       "      <th>4</th>\n",
       "      <td>1935</td>\n",
       "      <td>Unfiltered_control</td>\n",
       "      <td>9</td>\n",
       "      <td>2</td>\n",
       "      <td>0.000000</td>\n",
       "      <td>9</td>\n",
       "      <td>9</td>\n",
       "      <td>Unfiltered_control</td>\n",
       "    </tr>\n",
       "    <tr>\n",
       "      <th>5</th>\n",
       "      <td>2206</td>\n",
       "      <td>Unfiltered_control</td>\n",
       "      <td>9</td>\n",
       "      <td>4</td>\n",
       "      <td>0.000000</td>\n",
       "      <td>9</td>\n",
       "      <td>9</td>\n",
       "      <td>Unfiltered_control</td>\n",
       "    </tr>\n",
       "    <tr>\n",
       "      <th>6</th>\n",
       "      <td>2339</td>\n",
       "      <td>Unfiltered_control</td>\n",
       "      <td>8</td>\n",
       "      <td>8</td>\n",
       "      <td>0.000000</td>\n",
       "      <td>9</td>\n",
       "      <td>9</td>\n",
       "      <td>Unfiltered_control</td>\n",
       "    </tr>\n",
       "    <tr>\n",
       "      <th>7</th>\n",
       "      <td>2403</td>\n",
       "      <td>3</td>\n",
       "      <td>9</td>\n",
       "      <td>8</td>\n",
       "      <td>0.000000</td>\n",
       "      <td>9</td>\n",
       "      <td>9</td>\n",
       "      <td>Filtered_samples</td>\n",
       "    </tr>\n",
       "    <tr>\n",
       "      <th>8</th>\n",
       "      <td>2638</td>\n",
       "      <td>Unfiltered_control</td>\n",
       "      <td>12</td>\n",
       "      <td>5</td>\n",
       "      <td>0.000000</td>\n",
       "      <td>9</td>\n",
       "      <td>9</td>\n",
       "      <td>Unfiltered_control</td>\n",
       "    </tr>\n",
       "    <tr>\n",
       "      <th>9</th>\n",
       "      <td>2879</td>\n",
       "      <td>3</td>\n",
       "      <td>13</td>\n",
       "      <td>5</td>\n",
       "      <td>0.000000</td>\n",
       "      <td>9</td>\n",
       "      <td>9</td>\n",
       "      <td>Filtered_samples</td>\n",
       "    </tr>\n",
       "    <tr>\n",
       "      <th>10</th>\n",
       "      <td>3205</td>\n",
       "      <td>Unfiltered_control</td>\n",
       "      <td>34</td>\n",
       "      <td>22</td>\n",
       "      <td>0.032113</td>\n",
       "      <td>9</td>\n",
       "      <td>9</td>\n",
       "      <td>Unfiltered_control</td>\n",
       "    </tr>\n",
       "    <tr>\n",
       "      <th>11</th>\n",
       "      <td>3380</td>\n",
       "      <td>Unfiltered_control</td>\n",
       "      <td>42</td>\n",
       "      <td>35</td>\n",
       "      <td>0.024378</td>\n",
       "      <td>9</td>\n",
       "      <td>9</td>\n",
       "      <td>Unfiltered_control</td>\n",
       "    </tr>\n",
       "    <tr>\n",
       "      <th>12</th>\n",
       "      <td>3457</td>\n",
       "      <td>3</td>\n",
       "      <td>7</td>\n",
       "      <td>6</td>\n",
       "      <td>0.000000</td>\n",
       "      <td>9</td>\n",
       "      <td>9</td>\n",
       "      <td>Filtered_samples</td>\n",
       "    </tr>\n",
       "    <tr>\n",
       "      <th>13</th>\n",
       "      <td>4476</td>\n",
       "      <td>Unfiltered_control</td>\n",
       "      <td>7</td>\n",
       "      <td>5</td>\n",
       "      <td>0.000000</td>\n",
       "      <td>9</td>\n",
       "      <td>9</td>\n",
       "      <td>Unfiltered_control</td>\n",
       "    </tr>\n",
       "    <tr>\n",
       "      <th>14</th>\n",
       "      <td>4904</td>\n",
       "      <td>8,9,10</td>\n",
       "      <td>11</td>\n",
       "      <td>10</td>\n",
       "      <td>0.000000</td>\n",
       "      <td>9</td>\n",
       "      <td>9</td>\n",
       "      <td>Filtered_samples</td>\n",
       "    </tr>\n",
       "    <tr>\n",
       "      <th>15</th>\n",
       "      <td>5241</td>\n",
       "      <td>3</td>\n",
       "      <td>18</td>\n",
       "      <td>13</td>\n",
       "      <td>0.042391</td>\n",
       "      <td>9</td>\n",
       "      <td>9</td>\n",
       "      <td>Filtered_samples</td>\n",
       "    </tr>\n",
       "    <tr>\n",
       "      <th>16</th>\n",
       "      <td>6276</td>\n",
       "      <td>Unfiltered_control</td>\n",
       "      <td>14</td>\n",
       "      <td>3</td>\n",
       "      <td>0.000000</td>\n",
       "      <td>9</td>\n",
       "      <td>9</td>\n",
       "      <td>Unfiltered_control</td>\n",
       "    </tr>\n",
       "    <tr>\n",
       "      <th>17</th>\n",
       "      <td>6506</td>\n",
       "      <td>Unfiltered_control</td>\n",
       "      <td>14</td>\n",
       "      <td>10</td>\n",
       "      <td>0.000000</td>\n",
       "      <td>9</td>\n",
       "      <td>9</td>\n",
       "      <td>Unfiltered_control</td>\n",
       "    </tr>\n",
       "    <tr>\n",
       "      <th>18</th>\n",
       "      <td>7152</td>\n",
       "      <td>3</td>\n",
       "      <td>7</td>\n",
       "      <td>5</td>\n",
       "      <td>0.000000</td>\n",
       "      <td>9</td>\n",
       "      <td>9</td>\n",
       "      <td>Filtered_samples</td>\n",
       "    </tr>\n",
       "    <tr>\n",
       "      <th>19</th>\n",
       "      <td>7308</td>\n",
       "      <td>Unfiltered_control</td>\n",
       "      <td>8</td>\n",
       "      <td>8</td>\n",
       "      <td>0.000000</td>\n",
       "      <td>9</td>\n",
       "      <td>9</td>\n",
       "      <td>Unfiltered_control</td>\n",
       "    </tr>\n",
       "  </tbody>\n",
       "</table>\n",
       "</div>"
      ],
      "text/plain": [
       "    cells             patient  nCount_RNA  nFeature_RNA   percent  \\\n",
       "0     721  Unfiltered_control           7             4  0.000000   \n",
       "1     760  Unfiltered_control           7             7  0.036010   \n",
       "2     775  Unfiltered_control          11             6  0.000000   \n",
       "3    1632  Unfiltered_control           7             4  0.150754   \n",
       "4    1935  Unfiltered_control           9             2  0.000000   \n",
       "5    2206  Unfiltered_control           9             4  0.000000   \n",
       "6    2339  Unfiltered_control           8             8  0.000000   \n",
       "7    2403                   3           9             8  0.000000   \n",
       "8    2638  Unfiltered_control          12             5  0.000000   \n",
       "9    2879                   3          13             5  0.000000   \n",
       "10   3205  Unfiltered_control          34            22  0.032113   \n",
       "11   3380  Unfiltered_control          42            35  0.024378   \n",
       "12   3457                   3           7             6  0.000000   \n",
       "13   4476  Unfiltered_control           7             5  0.000000   \n",
       "14   4904              8,9,10          11            10  0.000000   \n",
       "15   5241                   3          18            13  0.042391   \n",
       "16   6276  Unfiltered_control          14             3  0.000000   \n",
       "17   6506  Unfiltered_control          14            10  0.000000   \n",
       "18   7152                   3           7             5  0.000000   \n",
       "19   7308  Unfiltered_control           8             8  0.000000   \n",
       "\n",
       "    alra_snn_res.0.5  seurat_clusters             samples  \n",
       "0                  9                9  Unfiltered_control  \n",
       "1                  9                9  Unfiltered_control  \n",
       "2                  9                9  Unfiltered_control  \n",
       "3                  9                9  Unfiltered_control  \n",
       "4                  9                9  Unfiltered_control  \n",
       "5                  9                9  Unfiltered_control  \n",
       "6                  9                9  Unfiltered_control  \n",
       "7                  9                9    Filtered_samples  \n",
       "8                  9                9  Unfiltered_control  \n",
       "9                  9                9    Filtered_samples  \n",
       "10                 9                9  Unfiltered_control  \n",
       "11                 9                9  Unfiltered_control  \n",
       "12                 9                9    Filtered_samples  \n",
       "13                 9                9  Unfiltered_control  \n",
       "14                 9                9    Filtered_samples  \n",
       "15                 9                9    Filtered_samples  \n",
       "16                 9                9  Unfiltered_control  \n",
       "17                 9                9  Unfiltered_control  \n",
       "18                 9                9    Filtered_samples  \n",
       "19                 9                9  Unfiltered_control  "
      ]
     },
     "execution_count": 185,
     "metadata": {},
     "output_type": "execute_result"
    }
   ],
   "source": [
    "df_renamed = df.rename(columns = {'orig.ident':'patient', 'percent.mt': 'percent'})\n",
    "df_renamed.head(20)"
   ]
  },
  {
   "cell_type": "code",
   "execution_count": 187,
   "id": "3012143d-22ed-48da-8123-e4b5c3d621d6",
   "metadata": {},
   "outputs": [
    {
     "name": "stdout",
     "output_type": "stream",
     "text": [
      "Common values in 'cells':\n",
      "cells\n",
      "721      1\n",
      "12241    1\n",
      "12144    1\n",
      "12145    1\n",
      "12146    1\n",
      "        ..\n",
      "6061     1\n",
      "6062     1\n",
      "6063     1\n",
      "6066     1\n",
      "12186    1\n",
      "Name: count, Length: 12330, dtype: int64\n",
      "\n",
      "Common values in 'orig.ident':\n",
      "patient\n",
      "Unfiltered_control    8457\n",
      "11                    1641\n",
      "8,9,10                1124\n",
      "3                      754\n",
      "1                      296\n",
      "2                       29\n",
      "5                       17\n",
      "4                        7\n",
      "6                        3\n",
      "7                        1\n",
      "Failed_capture           1\n",
      "Name: count, dtype: int64\n"
     ]
    }
   ],
   "source": [
    "\n",
    "# Count common values in 'cells' and 'orig.ident'\n",
    "cell_counts = df_renamed[\"cells\"].value_counts()\n",
    "orig_ident_counts = df_renamed[\"patient\"].value_counts()\n",
    "\n",
    "# Display results\n",
    "print(\"Common values in 'cells':\")\n",
    "print(cell_counts)\n",
    "\n",
    "print(\"\\nCommon values in 'orig.ident':\")\n",
    "print(orig_ident_counts)\n"
   ]
  },
  {
   "cell_type": "markdown",
   "id": "a084243e-16b8-4369-a993-8bc7eea10329",
   "metadata": {},
   "source": [
    "---------------------------"
   ]
  },
  {
   "cell_type": "code",
   "execution_count": 190,
   "id": "93ff124c-03dc-441b-ac4f-876a519e8523",
   "metadata": {},
   "outputs": [
    {
     "data": {
      "text/plain": [
       "array(['Unfiltered_control', '3', '8,9,10', '2', '1', '4', '6', '7', '5',\n",
       "       '11', 'Failed_capture'], dtype=object)"
      ]
     },
     "execution_count": 190,
     "metadata": {},
     "output_type": "execute_result"
    }
   ],
   "source": [
    "# look through patient column \n",
    "df_renamed['patient'].unique()\n"
   ]
  },
  {
   "cell_type": "code",
   "execution_count": 192,
   "id": "97f64f33-97cf-4610-b036-2ef342cccfdb",
   "metadata": {},
   "outputs": [],
   "source": [
    "df_renamed['patient'] = df_renamed['patient'].replace({'Unfiltered_control': '0'})\n"
   ]
  },
  {
   "cell_type": "code",
   "execution_count": 196,
   "id": "b13e178c-579b-48b8-90e3-ec264a5595b4",
   "metadata": {},
   "outputs": [
    {
     "data": {
      "text/plain": [
       "array(['0', '3', '8,9,10', '2', '1', '4', '6', '7', '5', '11',\n",
       "       'Failed_capture'], dtype=object)"
      ]
     },
     "execution_count": 196,
     "metadata": {},
     "output_type": "execute_result"
    }
   ],
   "source": [
    "df_renamed['patient'].unique()\n"
   ]
  },
  {
   "cell_type": "code",
   "execution_count": 212,
   "id": "cd7716ca-eb28-45e1-bc67-71933765be00",
   "metadata": {},
   "outputs": [
    {
     "data": {
      "text/plain": [
       "array(['0', '1'], dtype=object)"
      ]
     },
     "execution_count": 212,
     "metadata": {},
     "output_type": "execute_result"
    }
   ],
   "source": [
    "# Replace values different than '0' with '1'\n",
    "df_renamed['patient'] = df_renamed['patient'].apply(lambda x: '1' if x != '0' else '0')\n",
    "\n",
    "# Drop rows where the 'patient' column has the value 'Failed_capture'\n",
    "df_renamed = df_renamed[df_renamed['patient'] != 'Failed_capture']\n",
    "\n",
    "# Check the unique values in the 'patient' column\n",
    "df_renamed['patient'].unique()\n"
   ]
  },
  {
   "cell_type": "code",
   "execution_count": 216,
   "id": "ed4ac36d-db76-46f6-84b0-b9fdcabbe4af",
   "metadata": {},
   "outputs": [
    {
     "data": {
      "text/plain": [
       "array(['Unfiltered_control', 'Filtered_samples', 'Unfiltered_sample'],\n",
       "      dtype=object)"
      ]
     },
     "execution_count": 216,
     "metadata": {},
     "output_type": "execute_result"
    }
   ],
   "source": [
    "df_renamed['samples'].unique()\n"
   ]
  },
  {
   "cell_type": "code",
   "execution_count": 218,
   "id": "003e45c1-be54-4eb2-8bc0-af4d76e00d81",
   "metadata": {},
   "outputs": [
    {
     "data": {
      "text/plain": [
       "array(['0', '1'], dtype=object)"
      ]
     },
     "execution_count": 218,
     "metadata": {},
     "output_type": "execute_result"
    }
   ],
   "source": [
    "df_renamed['patient'].unique()\n"
   ]
  },
  {
   "cell_type": "code",
   "execution_count": 220,
   "id": "9319708b-eb2b-4439-92b1-0e31e304dcf1",
   "metadata": {},
   "outputs": [
    {
     "data": {
      "text/html": [
       "<div>\n",
       "<style scoped>\n",
       "    .dataframe tbody tr th:only-of-type {\n",
       "        vertical-align: middle;\n",
       "    }\n",
       "\n",
       "    .dataframe tbody tr th {\n",
       "        vertical-align: top;\n",
       "    }\n",
       "\n",
       "    .dataframe thead th {\n",
       "        text-align: right;\n",
       "    }\n",
       "</style>\n",
       "<table border=\"1\" class=\"dataframe\">\n",
       "  <thead>\n",
       "    <tr style=\"text-align: right;\">\n",
       "      <th></th>\n",
       "      <th>cells</th>\n",
       "      <th>patient</th>\n",
       "      <th>nCount_RNA</th>\n",
       "      <th>nFeature_RNA</th>\n",
       "      <th>percent</th>\n",
       "      <th>alra_snn_res.0.5</th>\n",
       "      <th>seurat_clusters</th>\n",
       "      <th>samples</th>\n",
       "    </tr>\n",
       "  </thead>\n",
       "  <tbody>\n",
       "    <tr>\n",
       "      <th>0</th>\n",
       "      <td>721</td>\n",
       "      <td>0</td>\n",
       "      <td>7</td>\n",
       "      <td>4</td>\n",
       "      <td>0.000000</td>\n",
       "      <td>9</td>\n",
       "      <td>9</td>\n",
       "      <td>0</td>\n",
       "    </tr>\n",
       "    <tr>\n",
       "      <th>1</th>\n",
       "      <td>760</td>\n",
       "      <td>0</td>\n",
       "      <td>7</td>\n",
       "      <td>7</td>\n",
       "      <td>0.036010</td>\n",
       "      <td>9</td>\n",
       "      <td>9</td>\n",
       "      <td>0</td>\n",
       "    </tr>\n",
       "    <tr>\n",
       "      <th>2</th>\n",
       "      <td>775</td>\n",
       "      <td>0</td>\n",
       "      <td>11</td>\n",
       "      <td>6</td>\n",
       "      <td>0.000000</td>\n",
       "      <td>9</td>\n",
       "      <td>9</td>\n",
       "      <td>0</td>\n",
       "    </tr>\n",
       "    <tr>\n",
       "      <th>3</th>\n",
       "      <td>1632</td>\n",
       "      <td>0</td>\n",
       "      <td>7</td>\n",
       "      <td>4</td>\n",
       "      <td>0.150754</td>\n",
       "      <td>9</td>\n",
       "      <td>9</td>\n",
       "      <td>0</td>\n",
       "    </tr>\n",
       "    <tr>\n",
       "      <th>4</th>\n",
       "      <td>1935</td>\n",
       "      <td>0</td>\n",
       "      <td>9</td>\n",
       "      <td>2</td>\n",
       "      <td>0.000000</td>\n",
       "      <td>9</td>\n",
       "      <td>9</td>\n",
       "      <td>0</td>\n",
       "    </tr>\n",
       "    <tr>\n",
       "      <th>...</th>\n",
       "      <td>...</td>\n",
       "      <td>...</td>\n",
       "      <td>...</td>\n",
       "      <td>...</td>\n",
       "      <td>...</td>\n",
       "      <td>...</td>\n",
       "      <td>...</td>\n",
       "      <td>...</td>\n",
       "    </tr>\n",
       "    <tr>\n",
       "      <th>12325</th>\n",
       "      <td>11374</td>\n",
       "      <td>1</td>\n",
       "      <td>5</td>\n",
       "      <td>5</td>\n",
       "      <td>0.055928</td>\n",
       "      <td>9</td>\n",
       "      <td>9</td>\n",
       "      <td>1</td>\n",
       "    </tr>\n",
       "    <tr>\n",
       "      <th>12326</th>\n",
       "      <td>11498</td>\n",
       "      <td>0</td>\n",
       "      <td>9</td>\n",
       "      <td>1</td>\n",
       "      <td>0.000000</td>\n",
       "      <td>9</td>\n",
       "      <td>9</td>\n",
       "      <td>0</td>\n",
       "    </tr>\n",
       "    <tr>\n",
       "      <th>12327</th>\n",
       "      <td>11751</td>\n",
       "      <td>1</td>\n",
       "      <td>5</td>\n",
       "      <td>5</td>\n",
       "      <td>0.000000</td>\n",
       "      <td>9</td>\n",
       "      <td>9</td>\n",
       "      <td>1</td>\n",
       "    </tr>\n",
       "    <tr>\n",
       "      <th>12328</th>\n",
       "      <td>12116</td>\n",
       "      <td>0</td>\n",
       "      <td>5</td>\n",
       "      <td>3</td>\n",
       "      <td>0.000000</td>\n",
       "      <td>9</td>\n",
       "      <td>9</td>\n",
       "      <td>0</td>\n",
       "    </tr>\n",
       "    <tr>\n",
       "      <th>12329</th>\n",
       "      <td>12186</td>\n",
       "      <td>0</td>\n",
       "      <td>5</td>\n",
       "      <td>5</td>\n",
       "      <td>0.104275</td>\n",
       "      <td>9</td>\n",
       "      <td>9</td>\n",
       "      <td>0</td>\n",
       "    </tr>\n",
       "  </tbody>\n",
       "</table>\n",
       "<p>12330 rows × 8 columns</p>\n",
       "</div>"
      ],
      "text/plain": [
       "       cells patient  nCount_RNA  nFeature_RNA   percent  alra_snn_res.0.5  \\\n",
       "0        721       0           7             4  0.000000                 9   \n",
       "1        760       0           7             7  0.036010                 9   \n",
       "2        775       0          11             6  0.000000                 9   \n",
       "3       1632       0           7             4  0.150754                 9   \n",
       "4       1935       0           9             2  0.000000                 9   \n",
       "...      ...     ...         ...           ...       ...               ...   \n",
       "12325  11374       1           5             5  0.055928                 9   \n",
       "12326  11498       0           9             1  0.000000                 9   \n",
       "12327  11751       1           5             5  0.000000                 9   \n",
       "12328  12116       0           5             3  0.000000                 9   \n",
       "12329  12186       0           5             5  0.104275                 9   \n",
       "\n",
       "       seurat_clusters samples  \n",
       "0                    9       0  \n",
       "1                    9       0  \n",
       "2                    9       0  \n",
       "3                    9       0  \n",
       "4                    9       0  \n",
       "...                ...     ...  \n",
       "12325                9       1  \n",
       "12326                9       0  \n",
       "12327                9       1  \n",
       "12328                9       0  \n",
       "12329                9       0  \n",
       "\n",
       "[12330 rows x 8 columns]"
      ]
     },
     "execution_count": 220,
     "metadata": {},
     "output_type": "execute_result"
    }
   ],
   "source": [
    "df_renamed['samples'] = df_renamed['samples'].replace({'Unfiltered_control': '0', 'Filtered_samples': '1', 'Unfiltered_sample': '2'})\n",
    "df_renamed"
   ]
  },
  {
   "cell_type": "code",
   "execution_count": 222,
   "id": "4541ee3b-78d2-4972-97b9-715f52ccbae0",
   "metadata": {},
   "outputs": [
    {
     "data": {
      "text/plain": [
       "array([0.        , 0.03601008, 0.15075377, ..., 0.01013479, 0.05592841,\n",
       "       0.10427529])"
      ]
     },
     "execution_count": 222,
     "metadata": {},
     "output_type": "execute_result"
    }
   ],
   "source": [
    "df_renamed['percent'].unique()\n"
   ]
  },
  {
   "cell_type": "code",
   "execution_count": 224,
   "id": "7e164d4a-2cf4-4b88-9575-914b31383401",
   "metadata": {},
   "outputs": [
    {
     "data": {
      "text/html": [
       "<div>\n",
       "<style scoped>\n",
       "    .dataframe tbody tr th:only-of-type {\n",
       "        vertical-align: middle;\n",
       "    }\n",
       "\n",
       "    .dataframe tbody tr th {\n",
       "        vertical-align: top;\n",
       "    }\n",
       "\n",
       "    .dataframe thead th {\n",
       "        text-align: right;\n",
       "    }\n",
       "</style>\n",
       "<table border=\"1\" class=\"dataframe\">\n",
       "  <thead>\n",
       "    <tr style=\"text-align: right;\">\n",
       "      <th></th>\n",
       "      <th>cells</th>\n",
       "      <th>patient</th>\n",
       "      <th>nCount_RNA</th>\n",
       "      <th>nFeature_RNA</th>\n",
       "      <th>percent</th>\n",
       "      <th>alra_snn_res.0.5</th>\n",
       "      <th>seurat_clusters</th>\n",
       "      <th>samples</th>\n",
       "    </tr>\n",
       "  </thead>\n",
       "  <tbody>\n",
       "    <tr>\n",
       "      <th>0</th>\n",
       "      <td>721</td>\n",
       "      <td>0</td>\n",
       "      <td>7</td>\n",
       "      <td>4</td>\n",
       "      <td>0.0000</td>\n",
       "      <td>9</td>\n",
       "      <td>9</td>\n",
       "      <td>0</td>\n",
       "    </tr>\n",
       "    <tr>\n",
       "      <th>1</th>\n",
       "      <td>760</td>\n",
       "      <td>0</td>\n",
       "      <td>7</td>\n",
       "      <td>7</td>\n",
       "      <td>0.0360</td>\n",
       "      <td>9</td>\n",
       "      <td>9</td>\n",
       "      <td>0</td>\n",
       "    </tr>\n",
       "    <tr>\n",
       "      <th>2</th>\n",
       "      <td>775</td>\n",
       "      <td>0</td>\n",
       "      <td>11</td>\n",
       "      <td>6</td>\n",
       "      <td>0.0000</td>\n",
       "      <td>9</td>\n",
       "      <td>9</td>\n",
       "      <td>0</td>\n",
       "    </tr>\n",
       "    <tr>\n",
       "      <th>3</th>\n",
       "      <td>1632</td>\n",
       "      <td>0</td>\n",
       "      <td>7</td>\n",
       "      <td>4</td>\n",
       "      <td>0.1508</td>\n",
       "      <td>9</td>\n",
       "      <td>9</td>\n",
       "      <td>0</td>\n",
       "    </tr>\n",
       "    <tr>\n",
       "      <th>4</th>\n",
       "      <td>1935</td>\n",
       "      <td>0</td>\n",
       "      <td>9</td>\n",
       "      <td>2</td>\n",
       "      <td>0.0000</td>\n",
       "      <td>9</td>\n",
       "      <td>9</td>\n",
       "      <td>0</td>\n",
       "    </tr>\n",
       "    <tr>\n",
       "      <th>5</th>\n",
       "      <td>2206</td>\n",
       "      <td>0</td>\n",
       "      <td>9</td>\n",
       "      <td>4</td>\n",
       "      <td>0.0000</td>\n",
       "      <td>9</td>\n",
       "      <td>9</td>\n",
       "      <td>0</td>\n",
       "    </tr>\n",
       "    <tr>\n",
       "      <th>6</th>\n",
       "      <td>2339</td>\n",
       "      <td>0</td>\n",
       "      <td>8</td>\n",
       "      <td>8</td>\n",
       "      <td>0.0000</td>\n",
       "      <td>9</td>\n",
       "      <td>9</td>\n",
       "      <td>0</td>\n",
       "    </tr>\n",
       "    <tr>\n",
       "      <th>7</th>\n",
       "      <td>2403</td>\n",
       "      <td>1</td>\n",
       "      <td>9</td>\n",
       "      <td>8</td>\n",
       "      <td>0.0000</td>\n",
       "      <td>9</td>\n",
       "      <td>9</td>\n",
       "      <td>1</td>\n",
       "    </tr>\n",
       "    <tr>\n",
       "      <th>8</th>\n",
       "      <td>2638</td>\n",
       "      <td>0</td>\n",
       "      <td>12</td>\n",
       "      <td>5</td>\n",
       "      <td>0.0000</td>\n",
       "      <td>9</td>\n",
       "      <td>9</td>\n",
       "      <td>0</td>\n",
       "    </tr>\n",
       "    <tr>\n",
       "      <th>9</th>\n",
       "      <td>2879</td>\n",
       "      <td>1</td>\n",
       "      <td>13</td>\n",
       "      <td>5</td>\n",
       "      <td>0.0000</td>\n",
       "      <td>9</td>\n",
       "      <td>9</td>\n",
       "      <td>1</td>\n",
       "    </tr>\n",
       "  </tbody>\n",
       "</table>\n",
       "</div>"
      ],
      "text/plain": [
       "   cells patient  nCount_RNA  nFeature_RNA  percent  alra_snn_res.0.5  \\\n",
       "0    721       0           7             4   0.0000                 9   \n",
       "1    760       0           7             7   0.0360                 9   \n",
       "2    775       0          11             6   0.0000                 9   \n",
       "3   1632       0           7             4   0.1508                 9   \n",
       "4   1935       0           9             2   0.0000                 9   \n",
       "5   2206       0           9             4   0.0000                 9   \n",
       "6   2339       0           8             8   0.0000                 9   \n",
       "7   2403       1           9             8   0.0000                 9   \n",
       "8   2638       0          12             5   0.0000                 9   \n",
       "9   2879       1          13             5   0.0000                 9   \n",
       "\n",
       "   seurat_clusters samples  \n",
       "0                9       0  \n",
       "1                9       0  \n",
       "2                9       0  \n",
       "3                9       0  \n",
       "4                9       0  \n",
       "5                9       0  \n",
       "6                9       0  \n",
       "7                9       1  \n",
       "8                9       0  \n",
       "9                9       1  "
      ]
     },
     "execution_count": 224,
     "metadata": {},
     "output_type": "execute_result"
    }
   ],
   "source": [
    "df_renamed['percent'] = df_renamed['percent'].round(4)\n",
    "df_renamed.head(10)"
   ]
  },
  {
   "cell_type": "code",
   "execution_count": 230,
   "id": "6ca80393-bd1f-403d-ae4b-cd4950ed6761",
   "metadata": {},
   "outputs": [
    {
     "name": "stdout",
     "output_type": "stream",
     "text": [
      "cells                 int32\n",
      "patient               int32\n",
      "nCount_RNA            int64\n",
      "nFeature_RNA          int64\n",
      "percent             float64\n",
      "alra_snn_res.0.5      int64\n",
      "seurat_clusters       int64\n",
      "samples               int32\n",
      "dtype: object\n"
     ]
    }
   ],
   "source": [
    "# Convert the 'patient' column to int32\n",
    "df_renamed['patient'] = df_renamed['patient'].astype('int32')\n",
    "df_renamed['samples'] = df_renamed['samples'].astype('int32')\n",
    "\n",
    "# Verify the change in data types\n",
    "print(df_renamed.dtypes)\n"
   ]
  },
  {
   "cell_type": "markdown",
   "id": "03abe4f0-8459-42da-8761-364f67249d8e",
   "metadata": {},
   "source": [
    "--------------------------------------"
   ]
  },
  {
   "cell_type": "code",
   "execution_count": 233,
   "id": "86b8c612-06ee-4c71-abda-663ad48d8703",
   "metadata": {},
   "outputs": [
    {
     "data": {
      "text/plain": [
       "cells                 int32\n",
       "patient               int32\n",
       "nCount_RNA            int64\n",
       "nFeature_RNA          int64\n",
       "percent             float64\n",
       "alra_snn_res.0.5      int64\n",
       "seurat_clusters       int64\n",
       "samples               int32\n",
       "dtype: object"
      ]
     },
     "execution_count": 233,
     "metadata": {},
     "output_type": "execute_result"
    }
   ],
   "source": [
    "df_renamed.dtypes"
   ]
  },
  {
   "cell_type": "code",
   "execution_count": 235,
   "id": "2a97efe7-078e-4248-9ef7-aed6c098a55d",
   "metadata": {},
   "outputs": [],
   "source": [
    "# # Convert the 'patient' column to category type, then to numeric codes\n",
    "# df_renamed['patient'] = df_renamed['patient'].astype('category').cat.codes\n",
    "\n",
    "# # Now check the data type\n",
    "# print(df_renamed['patient'].dtype)  # Should be int32\n",
    "# df_renamed.head(10)\n"
   ]
  },
  {
   "cell_type": "code",
   "execution_count": 237,
   "id": "29f386e1-8e14-4159-afd0-797d88830c82",
   "metadata": {},
   "outputs": [
    {
     "name": "stdout",
     "output_type": "stream",
     "text": [
      "<class 'pandas.core.frame.DataFrame'>\n",
      "RangeIndex: 12330 entries, 0 to 12329\n",
      "Data columns (total 8 columns):\n",
      " #   Column            Non-Null Count  Dtype  \n",
      "---  ------            --------------  -----  \n",
      " 0   cells             12330 non-null  int32  \n",
      " 1   patient           12330 non-null  int32  \n",
      " 2   nCount_RNA        12330 non-null  int64  \n",
      " 3   nFeature_RNA      12330 non-null  int64  \n",
      " 4   percent           12330 non-null  float64\n",
      " 5   alra_snn_res.0.5  12330 non-null  int64  \n",
      " 6   seurat_clusters   12330 non-null  int64  \n",
      " 7   samples           12330 non-null  int32  \n",
      "dtypes: float64(1), int32(3), int64(4)\n",
      "memory usage: 626.3 KB\n"
     ]
    }
   ],
   "source": [
    "df_renamed.info()"
   ]
  },
  {
   "cell_type": "code",
   "execution_count": 63,
   "id": "46d00419-77ec-4bf4-83a1-b750a43ea994",
   "metadata": {},
   "outputs": [],
   "source": [
    "#df_filtered = df_renamed[df_renamed['percent'] < 0.1]\n"
   ]
  },
  {
   "cell_type": "code",
   "execution_count": 65,
   "id": "115e8dca-a7f5-4d0f-b10d-062bb5b30bf0",
   "metadata": {},
   "outputs": [],
   "source": [
    "#df_filtered.head(20)"
   ]
  },
  {
   "cell_type": "code",
   "execution_count": 239,
   "id": "887b0fe3-fae5-4201-805c-709b93bf9f83",
   "metadata": {},
   "outputs": [
    {
     "data": {
      "text/plain": [
       "12330"
      ]
     },
     "execution_count": 239,
     "metadata": {},
     "output_type": "execute_result"
    }
   ],
   "source": [
    "len(df_renamed)"
   ]
  },
  {
   "cell_type": "code",
   "execution_count": 241,
   "id": "cc0a3812-eae3-4637-9cb7-124927bf0143",
   "metadata": {},
   "outputs": [
    {
     "data": {
      "text/plain": [
       "patient\n",
       "0    8457\n",
       "1    3873\n",
       "Name: count, dtype: int64"
      ]
     },
     "execution_count": 241,
     "metadata": {},
     "output_type": "execute_result"
    }
   ],
   "source": [
    "df_renamed[\"patient\"].value_counts()"
   ]
  },
  {
   "cell_type": "code",
   "execution_count": 243,
   "id": "1d949ddf-34fd-4538-8c4c-a12a2d0be1fb",
   "metadata": {},
   "outputs": [
    {
     "data": {
      "text/plain": [
       "<bound method NDFrame.describe of Empty DataFrame\n",
       "Columns: [cells, patient, nCount_RNA, nFeature_RNA, percent, alra_snn_res.0.5, seurat_clusters, samples]\n",
       "Index: []>"
      ]
     },
     "execution_count": 243,
     "metadata": {},
     "output_type": "execute_result"
    }
   ],
   "source": [
    "df_filtered.describe"
   ]
  },
  {
   "cell_type": "code",
   "execution_count": null,
   "id": "68b8b61d-2647-4bcb-a27a-0adc1fedc838",
   "metadata": {},
   "outputs": [],
   "source": [
    "# # Drop rows where the target 'cells' column has only one value\n",
    "# df_filtered2 = df_filtered[df_filtered['cells'].isin(pd.Series(y).value_counts()[pd.Series(y).value_counts() > 1].index)]\n"
   ]
  },
  {
   "cell_type": "code",
   "execution_count": 245,
   "id": "105387ea-4044-4870-af5f-d8930a917d9e",
   "metadata": {},
   "outputs": [
    {
     "name": "stdout",
     "output_type": "stream",
     "text": [
      "(12330, 8)\n"
     ]
    }
   ],
   "source": [
    "print(df_renamed.shape)  # Check number of rows and columns after filtering\n"
   ]
  },
  {
   "cell_type": "markdown",
   "id": "90e5b0a1-6d84-444a-a2c4-6359ad996660",
   "metadata": {},
   "source": [
    "# Split the data "
   ]
  },
  {
   "cell_type": "code",
   "execution_count": 247,
   "id": "3c4c2516-ad50-4b44-a5a0-3a080b37d93d",
   "metadata": {},
   "outputs": [
    {
     "name": "stdout",
     "output_type": "stream",
     "text": [
      "<class 'pandas.core.frame.DataFrame'>\n",
      "RangeIndex: 12330 entries, 0 to 12329\n",
      "Data columns (total 8 columns):\n",
      " #   Column            Non-Null Count  Dtype  \n",
      "---  ------            --------------  -----  \n",
      " 0   cells             12330 non-null  int32  \n",
      " 1   patient           12330 non-null  int32  \n",
      " 2   nCount_RNA        12330 non-null  int64  \n",
      " 3   nFeature_RNA      12330 non-null  int64  \n",
      " 4   percent           12330 non-null  float64\n",
      " 5   alra_snn_res.0.5  12330 non-null  int64  \n",
      " 6   seurat_clusters   12330 non-null  int64  \n",
      " 7   samples           12330 non-null  int32  \n",
      "dtypes: float64(1), int32(3), int64(4)\n",
      "memory usage: 626.3 KB\n"
     ]
    }
   ],
   "source": [
    "df_renamed.info()"
   ]
  },
  {
   "cell_type": "code",
   "execution_count": 249,
   "id": "2c10c446-9256-47db-ad17-c35ac7f848d6",
   "metadata": {},
   "outputs": [
    {
     "name": "stdout",
     "output_type": "stream",
     "text": [
      "Original dataset size: (12330, 8)\n",
      "Filtered dataset size: (9, 8)\n"
     ]
    }
   ],
   "source": [
    "# Check size of the DataFrame before filtering\n",
    "print(f\"Original dataset size: {df_renamed.shape}\")\n",
    "\n",
    "# Filter the DataFrame to remove classes with a single sample\n",
    "class_counts = pd.Series(y).value_counts()\n",
    "filtered_classes = class_counts[class_counts > 1].index\n",
    "df_filtered = df_renamed[df_renamed['cells'].isin(filtered_classes)]\n",
    "\n",
    "# Check size of the DataFrame after filtering\n",
    "print(f\"Filtered dataset size: {df_filtered.shape}\")\n"
   ]
  },
  {
   "cell_type": "code",
   "execution_count": 251,
   "id": "3c2113b5-2833-4692-9ed3-c5f48b5b36e3",
   "metadata": {},
   "outputs": [],
   "source": [
    "# Redefine X and y after filtering\n",
    "y = df_renamed['patient']\n",
    "X = df_renamed.drop(columns='patient').values"
   ]
  },
  {
   "cell_type": "code",
   "execution_count": 253,
   "id": "4ae02940-4bf0-4ae0-8cb3-55e8b4832d06",
   "metadata": {},
   "outputs": [
    {
     "name": "stdout",
     "output_type": "stream",
     "text": [
      "patient\n",
      "0    8457\n",
      "1    3873\n",
      "Name: count, dtype: int64\n"
     ]
    }
   ],
   "source": [
    "print(y.value_counts())\n"
   ]
  },
  {
   "cell_type": "code",
   "execution_count": 255,
   "id": "ed4473e4-122f-44c4-902b-02dabd19fed9",
   "metadata": {},
   "outputs": [
    {
     "name": "stdout",
     "output_type": "stream",
     "text": [
      "patient\n",
      "0    8457\n",
      "1    3873\n",
      "Name: count, dtype: int64\n"
     ]
    }
   ],
   "source": [
    "# Check class distribution of 'patient'\n",
    "class_counts = pd.Series(y).value_counts()\n",
    "print(class_counts)\n"
   ]
  },
  {
   "cell_type": "code",
   "execution_count": 297,
   "id": "c6365040-a62e-4bc5-8877-7a16bae9911a",
   "metadata": {},
   "outputs": [],
   "source": [
    "# Split the data\n",
    "y = df_renamed['patient'].values\n",
    "X = df_renamed.drop(columns='patient').values\n",
    "X_train, X_test, y_train, y_test = train_test_split(X, y, random_state=42, stratify=y)\n"
   ]
  },
  {
   "cell_type": "code",
   "execution_count": 299,
   "id": "aa72a71d-00b4-461a-a826-08a09f09e3cf",
   "metadata": {},
   "outputs": [],
   "source": [
    "#Scale data \n",
    "# Create a StandardScaler instances\n",
    "scaler = StandardScaler()\n",
    "\n",
    "# Fit the StandardScaler\n",
    "X_scaler = scaler.fit(X_train)\n",
    "\n",
    "# Scale the data\n",
    "X_train_scaled = X_scaler.transform(X_train)\n",
    "X_test_scaled = X_scaler.transform(X_test)"
   ]
  },
  {
   "cell_type": "code",
   "execution_count": 301,
   "id": "867a726b-58b3-4c49-8d8e-5c4dad93260a",
   "metadata": {},
   "outputs": [
    {
     "name": "stdout",
     "output_type": "stream",
     "text": [
      "Unique labels in y_train: {0, 1}\n",
      "Unique labels in y_test: {0, 1}\n"
     ]
    }
   ],
   "source": [
    "print(f\"Unique labels in y_train: {set(y_train)}\")\n",
    "print(f\"Unique labels in y_test: {set(y_test)}\")\n"
   ]
  },
  {
   "cell_type": "code",
   "execution_count": 303,
   "id": "961082e5-2dc1-4f26-bd7e-10ece2c2277d",
   "metadata": {},
   "outputs": [
    {
     "name": "stdout",
     "output_type": "stream",
     "text": [
      "                        Number of Total Records: 12330\n",
      "After Data split Number if Records in Train set: 9247\n",
      "After Data split Number if Records in Test  set: 3083\n"
     ]
    }
   ],
   "source": [
    "print(f\"                        Number of Total Records: {len(df_renamed)}\")\n",
    "print(f\"After Data split Number if Records in Train set: {len(X_train_scaled)}\")\n",
    "print(f\"After Data split Number if Records in Test  set: {len(X_test_scaled)}\")\n"
   ]
  },
  {
   "cell_type": "markdown",
   "id": "639ef0cf-d67c-46cd-95a5-975bac3e037f",
   "metadata": {},
   "source": [
    "## Model creation"
   ]
  },
  {
   "cell_type": "code",
   "execution_count": 311,
   "id": "86571537-b9f7-4763-abd9-4688c34d8ddd",
   "metadata": {},
   "outputs": [
    {
     "name": "stdout",
     "output_type": "stream",
     "text": [
      "Epoch 1/100\n",
      "\u001b[1m289/289\u001b[0m \u001b[32m━━━━━━━━━━━━━━━━━━━━\u001b[0m\u001b[37m\u001b[0m \u001b[1m4s\u001b[0m 2ms/step - accuracy: 0.9116 - loss: 0.2910\n",
      "Epoch 2/100\n",
      "\u001b[1m289/289\u001b[0m \u001b[32m━━━━━━━━━━━━━━━━━━━━\u001b[0m\u001b[37m\u001b[0m \u001b[1m1s\u001b[0m 2ms/step - accuracy: 1.0000 - loss: 0.0101\n",
      "Epoch 3/100\n",
      "\u001b[1m289/289\u001b[0m \u001b[32m━━━━━━━━━━━━━━━━━━━━\u001b[0m\u001b[37m\u001b[0m \u001b[1m1s\u001b[0m 2ms/step - accuracy: 1.0000 - loss: 0.0025\n",
      "Epoch 4/100\n",
      "\u001b[1m289/289\u001b[0m \u001b[32m━━━━━━━━━━━━━━━━━━━━\u001b[0m\u001b[37m\u001b[0m \u001b[1m1s\u001b[0m 2ms/step - accuracy: 1.0000 - loss: 0.0011\n",
      "Epoch 5/100\n",
      "\u001b[1m289/289\u001b[0m \u001b[32m━━━━━━━━━━━━━━━━━━━━\u001b[0m\u001b[37m\u001b[0m \u001b[1m0s\u001b[0m 2ms/step - accuracy: 1.0000 - loss: 5.8541e-04\n",
      "Epoch 6/100\n",
      "\u001b[1m289/289\u001b[0m \u001b[32m━━━━━━━━━━━━━━━━━━━━\u001b[0m\u001b[37m\u001b[0m \u001b[1m1s\u001b[0m 2ms/step - accuracy: 1.0000 - loss: 3.6166e-04\n",
      "Epoch 7/100\n",
      "\u001b[1m289/289\u001b[0m \u001b[32m━━━━━━━━━━━━━━━━━━━━\u001b[0m\u001b[37m\u001b[0m \u001b[1m1s\u001b[0m 2ms/step - accuracy: 1.0000 - loss: 2.3940e-04\n",
      "Epoch 8/100\n",
      "\u001b[1m289/289\u001b[0m \u001b[32m━━━━━━━━━━━━━━━━━━━━\u001b[0m\u001b[37m\u001b[0m \u001b[1m0s\u001b[0m 1ms/step - accuracy: 1.0000 - loss: 1.7321e-04\n",
      "Epoch 9/100\n",
      "\u001b[1m289/289\u001b[0m \u001b[32m━━━━━━━━━━━━━━━━━━━━\u001b[0m\u001b[37m\u001b[0m \u001b[1m1s\u001b[0m 2ms/step - accuracy: 1.0000 - loss: 1.2423e-04\n",
      "Epoch 10/100\n",
      "\u001b[1m289/289\u001b[0m \u001b[32m━━━━━━━━━━━━━━━━━━━━\u001b[0m\u001b[37m\u001b[0m \u001b[1m1s\u001b[0m 2ms/step - accuracy: 1.0000 - loss: 9.4294e-05\n",
      "Epoch 11/100\n",
      "\u001b[1m289/289\u001b[0m \u001b[32m━━━━━━━━━━━━━━━━━━━━\u001b[0m\u001b[37m\u001b[0m \u001b[1m1s\u001b[0m 2ms/step - accuracy: 1.0000 - loss: 7.4269e-05\n",
      "Epoch 12/100\n",
      "\u001b[1m289/289\u001b[0m \u001b[32m━━━━━━━━━━━━━━━━━━━━\u001b[0m\u001b[37m\u001b[0m \u001b[1m0s\u001b[0m 2ms/step - accuracy: 1.0000 - loss: 5.6329e-05\n",
      "Epoch 13/100\n",
      "\u001b[1m289/289\u001b[0m \u001b[32m━━━━━━━━━━━━━━━━━━━━\u001b[0m\u001b[37m\u001b[0m \u001b[1m1s\u001b[0m 2ms/step - accuracy: 1.0000 - loss: 4.4878e-05\n",
      "Epoch 14/100\n",
      "\u001b[1m289/289\u001b[0m \u001b[32m━━━━━━━━━━━━━━━━━━━━\u001b[0m\u001b[37m\u001b[0m \u001b[1m1s\u001b[0m 2ms/step - accuracy: 1.0000 - loss: 3.7679e-05\n",
      "Epoch 15/100\n",
      "\u001b[1m289/289\u001b[0m \u001b[32m━━━━━━━━━━━━━━━━━━━━\u001b[0m\u001b[37m\u001b[0m \u001b[1m0s\u001b[0m 1ms/step - accuracy: 1.0000 - loss: 2.8897e-05\n",
      "Epoch 16/100\n",
      "\u001b[1m289/289\u001b[0m \u001b[32m━━━━━━━━━━━━━━━━━━━━\u001b[0m\u001b[37m\u001b[0m \u001b[1m0s\u001b[0m 2ms/step - accuracy: 1.0000 - loss: 2.3935e-05\n",
      "Epoch 17/100\n",
      "\u001b[1m289/289\u001b[0m \u001b[32m━━━━━━━━━━━━━━━━━━━━\u001b[0m\u001b[37m\u001b[0m \u001b[1m1s\u001b[0m 2ms/step - accuracy: 1.0000 - loss: 2.0303e-05\n",
      "Epoch 18/100\n",
      "\u001b[1m289/289\u001b[0m \u001b[32m━━━━━━━━━━━━━━━━━━━━\u001b[0m\u001b[37m\u001b[0m \u001b[1m1s\u001b[0m 2ms/step - accuracy: 1.0000 - loss: 1.6358e-05\n",
      "Epoch 19/100\n",
      "\u001b[1m289/289\u001b[0m \u001b[32m━━━━━━━━━━━━━━━━━━━━\u001b[0m\u001b[37m\u001b[0m \u001b[1m1s\u001b[0m 2ms/step - accuracy: 1.0000 - loss: 1.2997e-05\n",
      "Epoch 20/100\n",
      "\u001b[1m289/289\u001b[0m \u001b[32m━━━━━━━━━━━━━━━━━━━━\u001b[0m\u001b[37m\u001b[0m \u001b[1m1s\u001b[0m 2ms/step - accuracy: 1.0000 - loss: 1.1137e-05\n",
      "Epoch 21/100\n",
      "\u001b[1m289/289\u001b[0m \u001b[32m━━━━━━━━━━━━━━━━━━━━\u001b[0m\u001b[37m\u001b[0m \u001b[1m1s\u001b[0m 2ms/step - accuracy: 1.0000 - loss: 9.2331e-06\n",
      "Epoch 22/100\n",
      "\u001b[1m289/289\u001b[0m \u001b[32m━━━━━━━━━━━━━━━━━━━━\u001b[0m\u001b[37m\u001b[0m \u001b[1m0s\u001b[0m 2ms/step - accuracy: 1.0000 - loss: 7.9392e-06\n",
      "Epoch 23/100\n",
      "\u001b[1m289/289\u001b[0m \u001b[32m━━━━━━━━━━━━━━━━━━━━\u001b[0m\u001b[37m\u001b[0m \u001b[1m1s\u001b[0m 2ms/step - accuracy: 1.0000 - loss: 6.5179e-06\n",
      "Epoch 24/100\n",
      "\u001b[1m289/289\u001b[0m \u001b[32m━━━━━━━━━━━━━━━━━━━━\u001b[0m\u001b[37m\u001b[0m \u001b[1m1s\u001b[0m 2ms/step - accuracy: 1.0000 - loss: 5.7753e-06\n",
      "Epoch 25/100\n",
      "\u001b[1m289/289\u001b[0m \u001b[32m━━━━━━━━━━━━━━━━━━━━\u001b[0m\u001b[37m\u001b[0m \u001b[1m1s\u001b[0m 2ms/step - accuracy: 1.0000 - loss: 4.6454e-06\n",
      "Epoch 26/100\n",
      "\u001b[1m289/289\u001b[0m \u001b[32m━━━━━━━━━━━━━━━━━━━━\u001b[0m\u001b[37m\u001b[0m \u001b[1m0s\u001b[0m 2ms/step - accuracy: 1.0000 - loss: 3.9911e-06\n",
      "Epoch 27/100\n",
      "\u001b[1m289/289\u001b[0m \u001b[32m━━━━━━━━━━━━━━━━━━━━\u001b[0m\u001b[37m\u001b[0m \u001b[1m0s\u001b[0m 1ms/step - accuracy: 1.0000 - loss: 3.2488e-06\n",
      "Epoch 28/100\n",
      "\u001b[1m289/289\u001b[0m \u001b[32m━━━━━━━━━━━━━━━━━━━━\u001b[0m\u001b[37m\u001b[0m \u001b[1m1s\u001b[0m 2ms/step - accuracy: 1.0000 - loss: 2.6769e-06\n",
      "Epoch 29/100\n",
      "\u001b[1m289/289\u001b[0m \u001b[32m━━━━━━━━━━━━━━━━━━━━\u001b[0m\u001b[37m\u001b[0m \u001b[1m0s\u001b[0m 2ms/step - accuracy: 1.0000 - loss: 2.2978e-06\n",
      "Epoch 30/100\n",
      "\u001b[1m289/289\u001b[0m \u001b[32m━━━━━━━━━━━━━━━━━━━━\u001b[0m\u001b[37m\u001b[0m \u001b[1m0s\u001b[0m 2ms/step - accuracy: 1.0000 - loss: 1.9214e-06\n",
      "Epoch 31/100\n",
      "\u001b[1m289/289\u001b[0m \u001b[32m━━━━━━━━━━━━━━━━━━━━\u001b[0m\u001b[37m\u001b[0m \u001b[1m1s\u001b[0m 2ms/step - accuracy: 1.0000 - loss: 1.7352e-06\n",
      "Epoch 32/100\n",
      "\u001b[1m289/289\u001b[0m \u001b[32m━━━━━━━━━━━━━━━━━━━━\u001b[0m\u001b[37m\u001b[0m \u001b[1m1s\u001b[0m 2ms/step - accuracy: 1.0000 - loss: 1.3669e-06\n",
      "Epoch 33/100\n",
      "\u001b[1m289/289\u001b[0m \u001b[32m━━━━━━━━━━━━━━━━━━━━\u001b[0m\u001b[37m\u001b[0m \u001b[1m1s\u001b[0m 2ms/step - accuracy: 1.0000 - loss: 1.2342e-06\n",
      "Epoch 34/100\n",
      "\u001b[1m289/289\u001b[0m \u001b[32m━━━━━━━━━━━━━━━━━━━━\u001b[0m\u001b[37m\u001b[0m \u001b[1m1s\u001b[0m 2ms/step - accuracy: 1.0000 - loss: 1.0107e-06\n",
      "Epoch 35/100\n",
      "\u001b[1m289/289\u001b[0m \u001b[32m━━━━━━━━━━━━━━━━━━━━\u001b[0m\u001b[37m\u001b[0m \u001b[1m0s\u001b[0m 1ms/step - accuracy: 1.0000 - loss: 8.6521e-07\n",
      "Epoch 36/100\n",
      "\u001b[1m289/289\u001b[0m \u001b[32m━━━━━━━━━━━━━━━━━━━━\u001b[0m\u001b[37m\u001b[0m \u001b[1m0s\u001b[0m 2ms/step - accuracy: 1.0000 - loss: 7.2167e-07\n",
      "Epoch 37/100\n",
      "\u001b[1m289/289\u001b[0m \u001b[32m━━━━━━━━━━━━━━━━━━━━\u001b[0m\u001b[37m\u001b[0m \u001b[1m1s\u001b[0m 2ms/step - accuracy: 1.0000 - loss: 6.2138e-07\n",
      "Epoch 38/100\n",
      "\u001b[1m289/289\u001b[0m \u001b[32m━━━━━━━━━━━━━━━━━━━━\u001b[0m\u001b[37m\u001b[0m \u001b[1m1s\u001b[0m 2ms/step - accuracy: 1.0000 - loss: 5.3621e-07\n",
      "Epoch 39/100\n",
      "\u001b[1m289/289\u001b[0m \u001b[32m━━━━━━━━━━━━━━━━━━━━\u001b[0m\u001b[37m\u001b[0m \u001b[1m0s\u001b[0m 1ms/step - accuracy: 1.0000 - loss: 4.6591e-07\n",
      "Epoch 40/100\n",
      "\u001b[1m289/289\u001b[0m \u001b[32m━━━━━━━━━━━━━━━━━━━━\u001b[0m\u001b[37m\u001b[0m \u001b[1m0s\u001b[0m 2ms/step - accuracy: 1.0000 - loss: 3.7921e-07\n",
      "Epoch 41/100\n",
      "\u001b[1m289/289\u001b[0m \u001b[32m━━━━━━━━━━━━━━━━━━━━\u001b[0m\u001b[37m\u001b[0m \u001b[1m0s\u001b[0m 2ms/step - accuracy: 1.0000 - loss: 3.3257e-07\n",
      "Epoch 42/100\n",
      "\u001b[1m289/289\u001b[0m \u001b[32m━━━━━━━━━━━━━━━━━━━━\u001b[0m\u001b[37m\u001b[0m \u001b[1m0s\u001b[0m 1ms/step - accuracy: 1.0000 - loss: 2.7591e-07\n",
      "Epoch 43/100\n",
      "\u001b[1m289/289\u001b[0m \u001b[32m━━━━━━━━━━━━━━━━━━━━\u001b[0m\u001b[37m\u001b[0m \u001b[1m0s\u001b[0m 1ms/step - accuracy: 1.0000 - loss: 2.3764e-07\n",
      "Epoch 44/100\n",
      "\u001b[1m289/289\u001b[0m \u001b[32m━━━━━━━━━━━━━━━━━━━━\u001b[0m\u001b[37m\u001b[0m \u001b[1m1s\u001b[0m 2ms/step - accuracy: 1.0000 - loss: 2.0495e-07\n",
      "Epoch 45/100\n",
      "\u001b[1m289/289\u001b[0m \u001b[32m━━━━━━━━━━━━━━━━━━━━\u001b[0m\u001b[37m\u001b[0m \u001b[1m1s\u001b[0m 2ms/step - accuracy: 1.0000 - loss: 1.8185e-07\n",
      "Epoch 46/100\n",
      "\u001b[1m289/289\u001b[0m \u001b[32m━━━━━━━━━━━━━━━━━━━━\u001b[0m\u001b[37m\u001b[0m \u001b[1m1s\u001b[0m 2ms/step - accuracy: 1.0000 - loss: 1.4676e-07\n",
      "Epoch 47/100\n",
      "\u001b[1m289/289\u001b[0m \u001b[32m━━━━━━━━━━━━━━━━━━━━\u001b[0m\u001b[37m\u001b[0m \u001b[1m1s\u001b[0m 2ms/step - accuracy: 1.0000 - loss: 1.2035e-07\n",
      "Epoch 48/100\n",
      "\u001b[1m289/289\u001b[0m \u001b[32m━━━━━━━━━━━━━━━━━━━━\u001b[0m\u001b[37m\u001b[0m \u001b[1m1s\u001b[0m 2ms/step - accuracy: 1.0000 - loss: 1.0113e-07\n",
      "Epoch 49/100\n",
      "\u001b[1m289/289\u001b[0m \u001b[32m━━━━━━━━━━━━━━━━━━━━\u001b[0m\u001b[37m\u001b[0m \u001b[1m1s\u001b[0m 2ms/step - accuracy: 1.0000 - loss: 8.3989e-08\n",
      "Epoch 50/100\n",
      "\u001b[1m289/289\u001b[0m \u001b[32m━━━━━━━━━━━━━━━━━━━━\u001b[0m\u001b[37m\u001b[0m \u001b[1m0s\u001b[0m 1ms/step - accuracy: 1.0000 - loss: 7.0717e-08\n",
      "Epoch 51/100\n",
      "\u001b[1m289/289\u001b[0m \u001b[32m━━━━━━━━━━━━━━━━━━━━\u001b[0m\u001b[37m\u001b[0m \u001b[1m0s\u001b[0m 2ms/step - accuracy: 1.0000 - loss: 5.8853e-08\n",
      "Epoch 52/100\n",
      "\u001b[1m289/289\u001b[0m \u001b[32m━━━━━━━━━━━━━━━━━━━━\u001b[0m\u001b[37m\u001b[0m \u001b[1m1s\u001b[0m 2ms/step - accuracy: 1.0000 - loss: 4.7353e-08\n",
      "Epoch 53/100\n",
      "\u001b[1m289/289\u001b[0m \u001b[32m━━━━━━━━━━━━━━━━━━━━\u001b[0m\u001b[37m\u001b[0m \u001b[1m1s\u001b[0m 2ms/step - accuracy: 1.0000 - loss: 3.9433e-08\n",
      "Epoch 54/100\n",
      "\u001b[1m289/289\u001b[0m \u001b[32m━━━━━━━━━━━━━━━━━━━━\u001b[0m\u001b[37m\u001b[0m \u001b[1m0s\u001b[0m 2ms/step - accuracy: 1.0000 - loss: 3.0887e-08\n",
      "Epoch 55/100\n",
      "\u001b[1m289/289\u001b[0m \u001b[32m━━━━━━━━━━━━━━━━━━━━\u001b[0m\u001b[37m\u001b[0m \u001b[1m0s\u001b[0m 2ms/step - accuracy: 1.0000 - loss: 2.3888e-08\n",
      "Epoch 56/100\n",
      "\u001b[1m289/289\u001b[0m \u001b[32m━━━━━━━━━━━━━━━━━━━━\u001b[0m\u001b[37m\u001b[0m \u001b[1m0s\u001b[0m 1ms/step - accuracy: 1.0000 - loss: 1.9253e-08\n",
      "Epoch 57/100\n",
      "\u001b[1m289/289\u001b[0m \u001b[32m━━━━━━━━━━━━━━━━━━━━\u001b[0m\u001b[37m\u001b[0m \u001b[1m0s\u001b[0m 2ms/step - accuracy: 1.0000 - loss: 1.5015e-08\n",
      "Epoch 58/100\n",
      "\u001b[1m289/289\u001b[0m \u001b[32m━━━━━━━━━━━━━━━━━━━━\u001b[0m\u001b[37m\u001b[0m \u001b[1m1s\u001b[0m 2ms/step - accuracy: 1.0000 - loss: 1.1429e-08\n",
      "Epoch 59/100\n",
      "\u001b[1m289/289\u001b[0m \u001b[32m━━━━━━━━━━━━━━━━━━━━\u001b[0m\u001b[37m\u001b[0m \u001b[1m1s\u001b[0m 2ms/step - accuracy: 1.0000 - loss: 8.8720e-09\n",
      "Epoch 60/100\n",
      "\u001b[1m289/289\u001b[0m \u001b[32m━━━━━━━━━━━━━━━━━━━━\u001b[0m\u001b[37m\u001b[0m \u001b[1m1s\u001b[0m 2ms/step - accuracy: 1.0000 - loss: 6.9172e-09\n",
      "Epoch 61/100\n",
      "\u001b[1m289/289\u001b[0m \u001b[32m━━━━━━━━━━━━━━━━━━━━\u001b[0m\u001b[37m\u001b[0m \u001b[1m1s\u001b[0m 2ms/step - accuracy: 1.0000 - loss: 5.1363e-09\n",
      "Epoch 62/100\n",
      "\u001b[1m289/289\u001b[0m \u001b[32m━━━━━━━━━━━━━━━━━━━━\u001b[0m\u001b[37m\u001b[0m \u001b[1m1s\u001b[0m 2ms/step - accuracy: 1.0000 - loss: 3.4554e-09\n",
      "Epoch 63/100\n",
      "\u001b[1m289/289\u001b[0m \u001b[32m━━━━━━━━━━━━━━━━━━━━\u001b[0m\u001b[37m\u001b[0m \u001b[1m1s\u001b[0m 2ms/step - accuracy: 1.0000 - loss: 2.7608e-09\n",
      "Epoch 64/100\n",
      "\u001b[1m289/289\u001b[0m \u001b[32m━━━━━━━━━━━━━━━━━━━━\u001b[0m\u001b[37m\u001b[0m \u001b[1m1s\u001b[0m 2ms/step - accuracy: 1.0000 - loss: 2.0254e-09\n",
      "Epoch 65/100\n",
      "\u001b[1m289/289\u001b[0m \u001b[32m━━━━━━━━━━━━━━━━━━━━\u001b[0m\u001b[37m\u001b[0m \u001b[1m1s\u001b[0m 2ms/step - accuracy: 1.0000 - loss: 1.4009e-09\n",
      "Epoch 66/100\n",
      "\u001b[1m289/289\u001b[0m \u001b[32m━━━━━━━━━━━━━━━━━━━━\u001b[0m\u001b[37m\u001b[0m \u001b[1m0s\u001b[0m 2ms/step - accuracy: 1.0000 - loss: 1.3335e-09\n",
      "Epoch 67/100\n",
      "\u001b[1m289/289\u001b[0m \u001b[32m━━━━━━━━━━━━━━━━━━━━\u001b[0m\u001b[37m\u001b[0m \u001b[1m1s\u001b[0m 2ms/step - accuracy: 1.0000 - loss: 8.9773e-10\n",
      "Epoch 68/100\n",
      "\u001b[1m289/289\u001b[0m \u001b[32m━━━━━━━━━━━━━━━━━━━━\u001b[0m\u001b[37m\u001b[0m \u001b[1m0s\u001b[0m 2ms/step - accuracy: 1.0000 - loss: 9.9952e-10\n",
      "Epoch 69/100\n",
      "\u001b[1m289/289\u001b[0m \u001b[32m━━━━━━━━━━━━━━━━━━━━\u001b[0m\u001b[37m\u001b[0m \u001b[1m1s\u001b[0m 2ms/step - accuracy: 1.0000 - loss: 5.1445e-10\n",
      "Epoch 70/100\n",
      "\u001b[1m289/289\u001b[0m \u001b[32m━━━━━━━━━━━━━━━━━━━━\u001b[0m\u001b[37m\u001b[0m \u001b[1m0s\u001b[0m 2ms/step - accuracy: 1.0000 - loss: 7.7485e-10\n",
      "Epoch 71/100\n",
      "\u001b[1m289/289\u001b[0m \u001b[32m━━━━━━━━━━━━━━━━━━━━\u001b[0m\u001b[37m\u001b[0m \u001b[1m0s\u001b[0m 1ms/step - accuracy: 1.0000 - loss: 5.1781e-10\n",
      "Epoch 72/100\n",
      "\u001b[1m289/289\u001b[0m \u001b[32m━━━━━━━━━━━━━━━━━━━━\u001b[0m\u001b[37m\u001b[0m \u001b[1m0s\u001b[0m 1ms/step - accuracy: 1.0000 - loss: 5.4537e-10\n",
      "Epoch 73/100\n",
      "\u001b[1m289/289\u001b[0m \u001b[32m━━━━━━━━━━━━━━━━━━━━\u001b[0m\u001b[37m\u001b[0m \u001b[1m0s\u001b[0m 1ms/step - accuracy: 1.0000 - loss: 4.0601e-10\n",
      "Epoch 74/100\n",
      "\u001b[1m289/289\u001b[0m \u001b[32m━━━━━━━━━━━━━━━━━━━━\u001b[0m\u001b[37m\u001b[0m \u001b[1m0s\u001b[0m 1ms/step - accuracy: 1.0000 - loss: 4.1737e-10\n",
      "Epoch 75/100\n",
      "\u001b[1m289/289\u001b[0m \u001b[32m━━━━━━━━━━━━━━━━━━━━\u001b[0m\u001b[37m\u001b[0m \u001b[1m1s\u001b[0m 2ms/step - accuracy: 1.0000 - loss: 3.2116e-10\n",
      "Epoch 76/100\n",
      "\u001b[1m289/289\u001b[0m \u001b[32m━━━━━━━━━━━━━━━━━━━━\u001b[0m\u001b[37m\u001b[0m \u001b[1m1s\u001b[0m 2ms/step - accuracy: 1.0000 - loss: 3.4465e-10\n",
      "Epoch 77/100\n",
      "\u001b[1m289/289\u001b[0m \u001b[32m━━━━━━━━━━━━━━━━━━━━\u001b[0m\u001b[37m\u001b[0m \u001b[1m1s\u001b[0m 2ms/step - accuracy: 1.0000 - loss: 3.3890e-10\n",
      "Epoch 78/100\n",
      "\u001b[1m289/289\u001b[0m \u001b[32m━━━━━━━━━━━━━━━━━━━━\u001b[0m\u001b[37m\u001b[0m \u001b[1m1s\u001b[0m 2ms/step - accuracy: 1.0000 - loss: 1.0487e-10\n",
      "Epoch 79/100\n",
      "\u001b[1m289/289\u001b[0m \u001b[32m━━━━━━━━━━━━━━━━━━━━\u001b[0m\u001b[37m\u001b[0m \u001b[1m1s\u001b[0m 2ms/step - accuracy: 1.0000 - loss: 1.9967e-10\n",
      "Epoch 80/100\n",
      "\u001b[1m289/289\u001b[0m \u001b[32m━━━━━━━━━━━━━━━━━━━━\u001b[0m\u001b[37m\u001b[0m \u001b[1m0s\u001b[0m 2ms/step - accuracy: 1.0000 - loss: 1.1144e-10\n",
      "Epoch 81/100\n",
      "\u001b[1m289/289\u001b[0m \u001b[32m━━━━━━━━━━━━━━━━━━━━\u001b[0m\u001b[37m\u001b[0m \u001b[1m1s\u001b[0m 2ms/step - accuracy: 1.0000 - loss: 8.8500e-11\n",
      "Epoch 82/100\n",
      "\u001b[1m289/289\u001b[0m \u001b[32m━━━━━━━━━━━━━━━━━━━━\u001b[0m\u001b[37m\u001b[0m \u001b[1m1s\u001b[0m 2ms/step - accuracy: 1.0000 - loss: 9.0830e-11\n",
      "Epoch 83/100\n",
      "\u001b[1m289/289\u001b[0m \u001b[32m━━━━━━━━━━━━━━━━━━━━\u001b[0m\u001b[37m\u001b[0m \u001b[1m1s\u001b[0m 2ms/step - accuracy: 1.0000 - loss: 5.0694e-11\n",
      "Epoch 84/100\n",
      "\u001b[1m289/289\u001b[0m \u001b[32m━━━━━━━━━━━━━━━━━━━━\u001b[0m\u001b[37m\u001b[0m \u001b[1m1s\u001b[0m 2ms/step - accuracy: 1.0000 - loss: 7.4922e-11\n",
      "Epoch 85/100\n",
      "\u001b[1m289/289\u001b[0m \u001b[32m━━━━━━━━━━━━━━━━━━━━\u001b[0m\u001b[37m\u001b[0m \u001b[1m0s\u001b[0m 2ms/step - accuracy: 1.0000 - loss: 3.4499e-11\n",
      "Epoch 86/100\n",
      "\u001b[1m289/289\u001b[0m \u001b[32m━━━━━━━━━━━━━━━━━━━━\u001b[0m\u001b[37m\u001b[0m \u001b[1m0s\u001b[0m 1ms/step - accuracy: 1.0000 - loss: 3.5594e-12\n",
      "Epoch 87/100\n",
      "\u001b[1m289/289\u001b[0m \u001b[32m━━━━━━━━━━━━━━━━━━━━\u001b[0m\u001b[37m\u001b[0m \u001b[1m1s\u001b[0m 2ms/step - accuracy: 1.0000 - loss: 3.6725e-11\n",
      "Epoch 88/100\n",
      "\u001b[1m289/289\u001b[0m \u001b[32m━━━━━━━━━━━━━━━━━━━━\u001b[0m\u001b[37m\u001b[0m \u001b[1m0s\u001b[0m 2ms/step - accuracy: 1.0000 - loss: 1.3894e-11\n",
      "Epoch 89/100\n",
      "\u001b[1m289/289\u001b[0m \u001b[32m━━━━━━━━━━━━━━━━━━━━\u001b[0m\u001b[37m\u001b[0m \u001b[1m0s\u001b[0m 2ms/step - accuracy: 1.0000 - loss: 6.8120e-13\n",
      "Epoch 90/100\n",
      "\u001b[1m289/289\u001b[0m \u001b[32m━━━━━━━━━━━━━━━━━━━━\u001b[0m\u001b[37m\u001b[0m \u001b[1m0s\u001b[0m 2ms/step - accuracy: 1.0000 - loss: 2.1496e-11\n",
      "Epoch 91/100\n",
      "\u001b[1m289/289\u001b[0m \u001b[32m━━━━━━━━━━━━━━━━━━━━\u001b[0m\u001b[37m\u001b[0m \u001b[1m1s\u001b[0m 2ms/step - accuracy: 1.0000 - loss: 2.9381e-11\n",
      "Epoch 92/100\n",
      "\u001b[1m289/289\u001b[0m \u001b[32m━━━━━━━━━━━━━━━━━━━━\u001b[0m\u001b[37m\u001b[0m \u001b[1m0s\u001b[0m 1ms/step - accuracy: 1.0000 - loss: 0.0000e+00\n",
      "Epoch 93/100\n",
      "\u001b[1m289/289\u001b[0m \u001b[32m━━━━━━━━━━━━━━━━━━━━\u001b[0m\u001b[37m\u001b[0m \u001b[1m0s\u001b[0m 1ms/step - accuracy: 1.0000 - loss: 0.0000e+00\n",
      "Epoch 94/100\n",
      "\u001b[1m289/289\u001b[0m \u001b[32m━━━━━━━━━━━━━━━━━━━━\u001b[0m\u001b[37m\u001b[0m \u001b[1m0s\u001b[0m 1ms/step - accuracy: 1.0000 - loss: 0.0000e+00\n",
      "Epoch 95/100\n",
      "\u001b[1m289/289\u001b[0m \u001b[32m━━━━━━━━━━━━━━━━━━━━\u001b[0m\u001b[37m\u001b[0m \u001b[1m0s\u001b[0m 1ms/step - accuracy: 1.0000 - loss: 0.0000e+00\n",
      "Epoch 96/100\n",
      "\u001b[1m289/289\u001b[0m \u001b[32m━━━━━━━━━━━━━━━━━━━━\u001b[0m\u001b[37m\u001b[0m \u001b[1m0s\u001b[0m 1ms/step - accuracy: 1.0000 - loss: 0.0000e+00\n",
      "Epoch 97/100\n",
      "\u001b[1m289/289\u001b[0m \u001b[32m━━━━━━━━━━━━━━━━━━━━\u001b[0m\u001b[37m\u001b[0m \u001b[1m0s\u001b[0m 2ms/step - accuracy: 1.0000 - loss: 0.0000e+00\n",
      "Epoch 98/100\n",
      "\u001b[1m289/289\u001b[0m \u001b[32m━━━━━━━━━━━━━━━━━━━━\u001b[0m\u001b[37m\u001b[0m \u001b[1m0s\u001b[0m 1ms/step - accuracy: 1.0000 - loss: 0.0000e+00\n",
      "Epoch 99/100\n",
      "\u001b[1m289/289\u001b[0m \u001b[32m━━━━━━━━━━━━━━━━━━━━\u001b[0m\u001b[37m\u001b[0m \u001b[1m0s\u001b[0m 1ms/step - accuracy: 1.0000 - loss: 0.0000e+00\n",
      "Epoch 100/100\n",
      "\u001b[1m289/289\u001b[0m \u001b[32m━━━━━━━━━━━━━━━━━━━━\u001b[0m\u001b[37m\u001b[0m \u001b[1m0s\u001b[0m 1ms/step - accuracy: 1.0000 - loss: 0.0000e+00\n",
      "97/97 - 0s - 3ms/step - accuracy: 1.0000 - loss: 0.0000e+00\n",
      "\n",
      "\n",
      "Loss: 0.0, Accuracy: 1.0\n"
     ]
    }
   ],
   "source": [
    "# Define the deep learning model \n",
    "\n",
    "nn_model = tf.keras.Sequential([\n",
    "    tf.keras.layers.Dense(128, activation='relu'),  \n",
    "    tf.keras.layers.Dense(2)\n",
    "])\n",
    "# Compile the Sequential model together and customize metrics\n",
    "#nn_model.compile(loss=\"binary_crossentropy\", optimizer=\"adam\", metrics=[\"accuracy\"])\n",
    "nn_model.compile(optimizer='adam',\n",
    "              loss=tf.keras.losses.SparseCategoricalCrossentropy(from_logits=True),\n",
    "              metrics=['accuracy'])\n",
    "# Train the model\n",
    "\n",
    "fit_model = nn_model.fit(X_train_scaled, y_train, epochs=100)\n",
    "# Evaluate the model using the test data\n",
    "model_loss, model_accuracy = nn_model.evaluate(X_test_scaled,y_test,verbose=2)\n",
    "print(f\"\\n\\nLoss: {model_loss}, Accuracy: {model_accuracy}\")\n"
   ]
  },
  {
   "cell_type": "code",
   "execution_count": 313,
   "id": "79107858-a3df-4714-a6f6-71bf15ef5a04",
   "metadata": {},
   "outputs": [
    {
     "data": {
      "text/html": [
       "<pre style=\"white-space:pre;overflow-x:auto;line-height:normal;font-family:Menlo,'DejaVu Sans Mono',consolas,'Courier New',monospace\"><span style=\"font-weight: bold\">Model: \"sequential\"</span>\n",
       "</pre>\n"
      ],
      "text/plain": [
       "\u001b[1mModel: \"sequential\"\u001b[0m\n"
      ]
     },
     "metadata": {},
     "output_type": "display_data"
    },
    {
     "data": {
      "text/html": [
       "<pre style=\"white-space:pre;overflow-x:auto;line-height:normal;font-family:Menlo,'DejaVu Sans Mono',consolas,'Courier New',monospace\">┏━━━━━━━━━━━━━━━━━━━━━━━━━━━━━━━━━━━━━━┳━━━━━━━━━━━━━━━━━━━━━━━━━━━━━┳━━━━━━━━━━━━━━━━━┓\n",
       "┃<span style=\"font-weight: bold\"> Layer (type)                         </span>┃<span style=\"font-weight: bold\"> Output Shape                </span>┃<span style=\"font-weight: bold\">         Param # </span>┃\n",
       "┡━━━━━━━━━━━━━━━━━━━━━━━━━━━━━━━━━━━━━━╇━━━━━━━━━━━━━━━━━━━━━━━━━━━━━╇━━━━━━━━━━━━━━━━━┩\n",
       "│ dense (<span style=\"color: #0087ff; text-decoration-color: #0087ff\">Dense</span>)                        │ (<span style=\"color: #00d7ff; text-decoration-color: #00d7ff\">None</span>, <span style=\"color: #00af00; text-decoration-color: #00af00\">128</span>)                 │           <span style=\"color: #00af00; text-decoration-color: #00af00\">1,024</span> │\n",
       "├──────────────────────────────────────┼─────────────────────────────┼─────────────────┤\n",
       "│ dense_1 (<span style=\"color: #0087ff; text-decoration-color: #0087ff\">Dense</span>)                      │ (<span style=\"color: #00d7ff; text-decoration-color: #00d7ff\">None</span>, <span style=\"color: #00af00; text-decoration-color: #00af00\">2</span>)                   │             <span style=\"color: #00af00; text-decoration-color: #00af00\">258</span> │\n",
       "└──────────────────────────────────────┴─────────────────────────────┴─────────────────┘\n",
       "</pre>\n"
      ],
      "text/plain": [
       "┏━━━━━━━━━━━━━━━━━━━━━━━━━━━━━━━━━━━━━━┳━━━━━━━━━━━━━━━━━━━━━━━━━━━━━┳━━━━━━━━━━━━━━━━━┓\n",
       "┃\u001b[1m \u001b[0m\u001b[1mLayer (type)                        \u001b[0m\u001b[1m \u001b[0m┃\u001b[1m \u001b[0m\u001b[1mOutput Shape               \u001b[0m\u001b[1m \u001b[0m┃\u001b[1m \u001b[0m\u001b[1m        Param #\u001b[0m\u001b[1m \u001b[0m┃\n",
       "┡━━━━━━━━━━━━━━━━━━━━━━━━━━━━━━━━━━━━━━╇━━━━━━━━━━━━━━━━━━━━━━━━━━━━━╇━━━━━━━━━━━━━━━━━┩\n",
       "│ dense (\u001b[38;5;33mDense\u001b[0m)                        │ (\u001b[38;5;45mNone\u001b[0m, \u001b[38;5;34m128\u001b[0m)                 │           \u001b[38;5;34m1,024\u001b[0m │\n",
       "├──────────────────────────────────────┼─────────────────────────────┼─────────────────┤\n",
       "│ dense_1 (\u001b[38;5;33mDense\u001b[0m)                      │ (\u001b[38;5;45mNone\u001b[0m, \u001b[38;5;34m2\u001b[0m)                   │             \u001b[38;5;34m258\u001b[0m │\n",
       "└──────────────────────────────────────┴─────────────────────────────┴─────────────────┘\n"
      ]
     },
     "metadata": {},
     "output_type": "display_data"
    },
    {
     "data": {
      "text/html": [
       "<pre style=\"white-space:pre;overflow-x:auto;line-height:normal;font-family:Menlo,'DejaVu Sans Mono',consolas,'Courier New',monospace\"><span style=\"font-weight: bold\"> Total params: </span><span style=\"color: #00af00; text-decoration-color: #00af00\">3,848</span> (15.04 KB)\n",
       "</pre>\n"
      ],
      "text/plain": [
       "\u001b[1m Total params: \u001b[0m\u001b[38;5;34m3,848\u001b[0m (15.04 KB)\n"
      ]
     },
     "metadata": {},
     "output_type": "display_data"
    },
    {
     "data": {
      "text/html": [
       "<pre style=\"white-space:pre;overflow-x:auto;line-height:normal;font-family:Menlo,'DejaVu Sans Mono',consolas,'Courier New',monospace\"><span style=\"font-weight: bold\"> Trainable params: </span><span style=\"color: #00af00; text-decoration-color: #00af00\">1,282</span> (5.01 KB)\n",
       "</pre>\n"
      ],
      "text/plain": [
       "\u001b[1m Trainable params: \u001b[0m\u001b[38;5;34m1,282\u001b[0m (5.01 KB)\n"
      ]
     },
     "metadata": {},
     "output_type": "display_data"
    },
    {
     "data": {
      "text/html": [
       "<pre style=\"white-space:pre;overflow-x:auto;line-height:normal;font-family:Menlo,'DejaVu Sans Mono',consolas,'Courier New',monospace\"><span style=\"font-weight: bold\"> Non-trainable params: </span><span style=\"color: #00af00; text-decoration-color: #00af00\">0</span> (0.00 B)\n",
       "</pre>\n"
      ],
      "text/plain": [
       "\u001b[1m Non-trainable params: \u001b[0m\u001b[38;5;34m0\u001b[0m (0.00 B)\n"
      ]
     },
     "metadata": {},
     "output_type": "display_data"
    },
    {
     "data": {
      "text/html": [
       "<pre style=\"white-space:pre;overflow-x:auto;line-height:normal;font-family:Menlo,'DejaVu Sans Mono',consolas,'Courier New',monospace\"><span style=\"font-weight: bold\"> Optimizer params: </span><span style=\"color: #00af00; text-decoration-color: #00af00\">2,566</span> (10.03 KB)\n",
       "</pre>\n"
      ],
      "text/plain": [
       "\u001b[1m Optimizer params: \u001b[0m\u001b[38;5;34m2,566\u001b[0m (10.03 KB)\n"
      ]
     },
     "metadata": {},
     "output_type": "display_data"
    }
   ],
   "source": [
    "nn_model.summary()"
   ]
  },
  {
   "cell_type": "code",
   "execution_count": 319,
   "id": "35c9a576-fde9-46a4-9b60-11dc86730c58",
   "metadata": {},
   "outputs": [
    {
     "data": {
      "image/png": "[encoded data removed]",
      "text/plain": [
       "<Figure size 640x480 with 1 Axes>"
      ]
     },
     "metadata": {},
     "output_type": "display_data"
    }
   ],
   "source": [
    "import matplotlib.pyplot as plt\n",
    "\n",
    "history_df = pd.DataFrame(fit_model.history)\n",
    "\n",
    "# Increase the index by 1 to match the number of epochs\n",
    "history_df.index += 1\n",
    "# Plot the loss\n",
    "plt.plot(history.history['loss'], label='Training Loss')\n",
    "plt.plot(history.history['val_loss'], label='Validation Loss')\n",
    "plt.xlabel('Epochs')\n",
    "plt.ylabel('Loss')\n",
    "plt.title('Training and Validation Loss')\n",
    "plt.legend()\n",
    "plt.show()\n"
   ]
  },
  {
   "cell_type": "code",
   "execution_count": 325,
   "id": "021e2a92-9719-4f18-a099-3549989087ba",
   "metadata": {},
   "outputs": [
    {
     "data": {
      "text/html": [
       "<div>\n",
       "<style scoped>\n",
       "    .dataframe tbody tr th:only-of-type {\n",
       "        vertical-align: middle;\n",
       "    }\n",
       "\n",
       "    .dataframe tbody tr th {\n",
       "        vertical-align: top;\n",
       "    }\n",
       "\n",
       "    .dataframe thead th {\n",
       "        text-align: right;\n",
       "    }\n",
       "</style>\n",
       "<table border=\"1\" class=\"dataframe\">\n",
       "  <thead>\n",
       "    <tr style=\"text-align: right;\">\n",
       "      <th></th>\n",
       "      <th>accuracy</th>\n",
       "      <th>loss</th>\n",
       "    </tr>\n",
       "  </thead>\n",
       "  <tbody>\n",
       "    <tr>\n",
       "      <th>2</th>\n",
       "      <td>0.967882</td>\n",
       "      <td>0.140325</td>\n",
       "    </tr>\n",
       "    <tr>\n",
       "      <th>3</th>\n",
       "      <td>1.000000</td>\n",
       "      <td>0.007004</td>\n",
       "    </tr>\n",
       "    <tr>\n",
       "      <th>4</th>\n",
       "      <td>1.000000</td>\n",
       "      <td>0.001966</td>\n",
       "    </tr>\n",
       "    <tr>\n",
       "      <th>5</th>\n",
       "      <td>1.000000</td>\n",
       "      <td>0.000913</td>\n",
       "    </tr>\n",
       "    <tr>\n",
       "      <th>6</th>\n",
       "      <td>1.000000</td>\n",
       "      <td>0.000519</td>\n",
       "    </tr>\n",
       "    <tr>\n",
       "      <th>7</th>\n",
       "      <td>1.000000</td>\n",
       "      <td>0.000329</td>\n",
       "    </tr>\n",
       "    <tr>\n",
       "      <th>8</th>\n",
       "      <td>1.000000</td>\n",
       "      <td>0.000223</td>\n",
       "    </tr>\n",
       "    <tr>\n",
       "      <th>9</th>\n",
       "      <td>1.000000</td>\n",
       "      <td>0.000159</td>\n",
       "    </tr>\n",
       "    <tr>\n",
       "      <th>10</th>\n",
       "      <td>1.000000</td>\n",
       "      <td>0.000117</td>\n",
       "    </tr>\n",
       "    <tr>\n",
       "      <th>11</th>\n",
       "      <td>1.000000</td>\n",
       "      <td>0.000089</td>\n",
       "    </tr>\n",
       "    <tr>\n",
       "      <th>12</th>\n",
       "      <td>1.000000</td>\n",
       "      <td>0.000069</td>\n",
       "    </tr>\n",
       "    <tr>\n",
       "      <th>13</th>\n",
       "      <td>1.000000</td>\n",
       "      <td>0.000054</td>\n",
       "    </tr>\n",
       "    <tr>\n",
       "      <th>14</th>\n",
       "      <td>1.000000</td>\n",
       "      <td>0.000043</td>\n",
       "    </tr>\n",
       "    <tr>\n",
       "      <th>15</th>\n",
       "      <td>1.000000</td>\n",
       "      <td>0.000034</td>\n",
       "    </tr>\n",
       "    <tr>\n",
       "      <th>16</th>\n",
       "      <td>1.000000</td>\n",
       "      <td>0.000028</td>\n",
       "    </tr>\n",
       "    <tr>\n",
       "      <th>17</th>\n",
       "      <td>1.000000</td>\n",
       "      <td>0.000023</td>\n",
       "    </tr>\n",
       "    <tr>\n",
       "      <th>18</th>\n",
       "      <td>1.000000</td>\n",
       "      <td>0.000019</td>\n",
       "    </tr>\n",
       "    <tr>\n",
       "      <th>19</th>\n",
       "      <td>1.000000</td>\n",
       "      <td>0.000015</td>\n",
       "    </tr>\n",
       "    <tr>\n",
       "      <th>20</th>\n",
       "      <td>1.000000</td>\n",
       "      <td>0.000013</td>\n",
       "    </tr>\n",
       "    <tr>\n",
       "      <th>21</th>\n",
       "      <td>1.000000</td>\n",
       "      <td>0.000011</td>\n",
       "    </tr>\n",
       "    <tr>\n",
       "      <th>22</th>\n",
       "      <td>1.000000</td>\n",
       "      <td>0.000009</td>\n",
       "    </tr>\n",
       "    <tr>\n",
       "      <th>23</th>\n",
       "      <td>1.000000</td>\n",
       "      <td>0.000007</td>\n",
       "    </tr>\n",
       "    <tr>\n",
       "      <th>24</th>\n",
       "      <td>1.000000</td>\n",
       "      <td>0.000006</td>\n",
       "    </tr>\n",
       "    <tr>\n",
       "      <th>25</th>\n",
       "      <td>1.000000</td>\n",
       "      <td>0.000005</td>\n",
       "    </tr>\n",
       "    <tr>\n",
       "      <th>26</th>\n",
       "      <td>1.000000</td>\n",
       "      <td>0.000004</td>\n",
       "    </tr>\n",
       "  </tbody>\n",
       "</table>\n",
       "</div>"
      ],
      "text/plain": [
       "    accuracy      loss\n",
       "2   0.967882  0.140325\n",
       "3   1.000000  0.007004\n",
       "4   1.000000  0.001966\n",
       "5   1.000000  0.000913\n",
       "6   1.000000  0.000519\n",
       "7   1.000000  0.000329\n",
       "8   1.000000  0.000223\n",
       "9   1.000000  0.000159\n",
       "10  1.000000  0.000117\n",
       "11  1.000000  0.000089\n",
       "12  1.000000  0.000069\n",
       "13  1.000000  0.000054\n",
       "14  1.000000  0.000043\n",
       "15  1.000000  0.000034\n",
       "16  1.000000  0.000028\n",
       "17  1.000000  0.000023\n",
       "18  1.000000  0.000019\n",
       "19  1.000000  0.000015\n",
       "20  1.000000  0.000013\n",
       "21  1.000000  0.000011\n",
       "22  1.000000  0.000009\n",
       "23  1.000000  0.000007\n",
       "24  1.000000  0.000006\n",
       "25  1.000000  0.000005\n",
       "26  1.000000  0.000004"
      ]
     },
     "execution_count": 325,
     "metadata": {},
     "output_type": "execute_result"
    }
   ],
   "source": [
    "history_df.head(25)"
   ]
  },
  {
   "cell_type": "code",
   "execution_count": 323,
   "id": "25a9a6d3-2f94-4c9d-a3b8-3dbdda74ba21",
   "metadata": {},
   "outputs": [
    {
     "data": {
      "image/png": "[encoded data removed]",
      "text/plain": [
       "<Figure size 640x480 with 1 Axes>"
      ]
     },
     "metadata": {},
     "output_type": "display_data"
    }
   ],
   "source": [
    "import matplotlib.pyplot as plt\n",
    "\n",
    "# Assuming history_df is a DataFrame containing the training history\n",
    "\n",
    "# Increase the index by 1 to match the number of epochs\n",
    "history_df.index += 1\n",
    "\n",
    "# Plot the accuracy\n",
    "history_df.plot(y=\"accuracy\")\n",
    "plt.xlabel(\"Epoch\")\n",
    "plt.ylabel(\"Accuracy\")\n",
    "plt.title(\"Accuracy over Epochs\")\n",
    "plt.show()\n"
   ]
  },
  {
   "cell_type": "code",
   "execution_count": 329,
   "id": "c5884dca-ac2a-47a2-8257-cea3d0de1f00",
   "metadata": {},
   "outputs": [],
   "source": [
    "def do_inferencing(model, data):\n",
    "    # Your code to run inference\n",
    "    predictions = model.predict(data)\n",
    "    return predictions\n"
   ]
  },
  {
   "cell_type": "code",
   "execution_count": 331,
   "id": "5f4fb649-32c3-4058-be1d-8578bc2d985f",
   "metadata": {},
   "outputs": [
    {
     "name": "stdout",
     "output_type": "stream",
     "text": [
      "\u001b[1m97/97\u001b[0m \u001b[32m━━━━━━━━━━━━━━━━━━━━\u001b[0m\u001b[37m\u001b[0m \u001b[1m0s\u001b[0m 2ms/step\n"
     ]
    }
   ],
   "source": [
    "predictions = nn_model.predict(X_test_scaled)\n"
   ]
  },
  {
   "cell_type": "code",
   "execution_count": 333,
   "id": "92436d4e-5458-4081-8027-b90be9c06af0",
   "metadata": {},
   "outputs": [
    {
     "data": {
      "text/plain": [
       "array([ 10.018228, -13.837724], dtype=float32)"
      ]
     },
     "execution_count": 333,
     "metadata": {},
     "output_type": "execute_result"
    }
   ],
   "source": [
    "predictions[0]"
   ]
  },
  {
   "cell_type": "code",
   "execution_count": 335,
   "id": "3437e15d-d3fb-48aa-9b56-e1ecafc06837",
   "metadata": {},
   "outputs": [
    {
     "data": {
      "text/plain": [
       "0"
      ]
     },
     "execution_count": 335,
     "metadata": {},
     "output_type": "execute_result"
    }
   ],
   "source": [
    "np.argmax(predictions[0])"
   ]
  },
  {
   "cell_type": "code",
   "execution_count": 345,
   "id": "9ac8e09d-2669-4551-8b21-de4b333ac1d4",
   "metadata": {},
   "outputs": [
    {
     "name": "stdout",
     "output_type": "stream",
     "text": [
      "Patient #6: Actual Label = 1 \t Predicted Label = filtered control\n"
     ]
    }
   ],
   "source": [
    "# Define the patient control list\n",
    "patient_control = [\"unfiltered control\", \"filtered control\"]\n",
    "\n",
    "# Get the actual label from y_test and make sure it's accessible in df_renamed\n",
    "# Ensure the label is an integer that corresponds to the index correctly\n",
    "actual_label = df_renamed.loc[df_renamed['patient'] == y_test[5], 'patient'].values[0]\n",
    "\n",
    "# Get the predicted label using np.argmax for the prediction\n",
    "predicted_label = patient_control[np.argmax(predictions[5])]\n",
    "\n",
    "# Print the actual and predicted labels for patient #6\n",
    "print(f\"Patient #6: Actual Label = {actual_label} \\t Predicted Label = {predicted_label}\")\n"
   ]
  },
  {
   "cell_type": "markdown",
   "id": "be6cb69d-98a1-4f75-b33a-b44f45a3a819",
   "metadata": {},
   "source": [
    "------------------------------------"
   ]
  },
  {
   "cell_type": "code",
   "execution_count": 350,
   "id": "21b4f579-6387-4efa-9e56-af8a40e44749",
   "metadata": {},
   "outputs": [],
   "source": [
    "def do_inferencing(model, data):\n",
    "    \"\"\"\n",
    "    Perform inference (prediction) on the given data using the provided model.\n",
    "    \n",
    "    Parameters:\n",
    "    model (keras.Model): The trained Keras model.\n",
    "    data (numpy.array or DataFrame): The input data to predict on.\n",
    "\n",
    "    Returns:\n",
    "    numpy.array: Predicted labels (or probabilities, depending on your model).\n",
    "    \"\"\"\n",
    "    predictions = model.predict(data)  # Get predictions from the model\n",
    "    predicted_classes = np.argmax(predictions, axis=1)  # Convert predictions to class labels\n",
    "    return predicted_classes\n"
   ]
  },
  {
   "cell_type": "code",
   "execution_count": 357,
   "id": "1bf37e62-4d5f-4f4f-abe7-e4a86579afde",
   "metadata": {},
   "outputs": [
    {
     "name": "stdout",
     "output_type": "stream",
     "text": [
      "\u001b[1m97/97\u001b[0m \u001b[32m━━━━━━━━━━━━━━━━━━━━\u001b[0m\u001b[37m\u001b[0m \u001b[1m0s\u001b[0m 1ms/step  \n",
      "Predicted labels for the first few test samples: [0 1 1 1 0 1 0 1 0 0 0 0 0 0 1 0 0 0 0 0]\n"
     ]
    }
   ],
   "source": [
    "# Assuming `nn_model` is your trained model and `X_test_scaled` is your test data\n",
    "predicted_labels = do_inferencing(nn_model, X_test_scaled)\n",
    "\n",
    "# Print out predictions for the first few test samples\n",
    "print(f\"Predicted labels for the first few test samples: {predicted_labels[:20]}\")\n"
   ]
  },
  {
   "cell_type": "code",
   "execution_count": null,
   "id": "ba39e293-2b31-42f2-a4ca-7315108f9d54",
   "metadata": {},
   "outputs": [],
   "source": []
  }
 ],
 "metadata": {
  "kernelspec": {
   "display_name": "Python 3 (ipykernel)",
   "language": "python",
   "name": "python3"
  },
  "language_info": {
   "codemirror_mode": {
    "name": "ipython",
    "version": 3
   },
   "file_extension": ".py",
   "mimetype": "text/x-python",
   "name": "python",
   "nbconvert_exporter": "python",
   "pygments_lexer": "ipython3",
   "version": "3.12.3"
  }
 },
 "nbformat": 4,
 "nbformat_minor": 5
}
